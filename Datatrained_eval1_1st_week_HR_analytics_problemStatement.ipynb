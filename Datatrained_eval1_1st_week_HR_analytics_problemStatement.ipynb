{
 "cells": [
  {
   "cell_type": "code",
   "execution_count": 4,
   "id": "8e1994bd",
   "metadata": {},
   "outputs": [],
   "source": [
    "import pandas as pd\n",
    "import numpy as np\n",
    "import matplotlib.pyplot as plt\n",
    "import seaborn as sns\n",
    "import warnings\n",
    "warnings.filterwarnings('ignore')"
   ]
  },
  {
   "cell_type": "markdown",
   "id": "d6b3560e",
   "metadata": {},
   "source": [
    "**HR Analytics Project- Understanding the Attrition in HR**\n",
    "\n",
    "**Problem Statement:**\n",
    "Every year a lot of companies hire a number of employees. The companies invest time and money in training those employees, not just this but there are training programs within the companies for their existing employees as well. The aim of these programs is to increase the effectiveness of their employees. But where HR Analytics fit in this? and is it just about improving the performance of employees?\n",
    "\n",
    "**HR Analytics**\n",
    "\n",
    "Human resource analytics (HR analytics) is an area in the field of analytics that refers to applying analytic processes to the human resource department of an organization in the hope of improving employee performance and therefore getting a better return on investment. HR analytics does not just deal with gathering data on employee efficiency. Instead, it aims to provide insight into each process by gathering data and then using it to make relevant decisions about how to improve these processes.\n",
    "\n",
    "**Attrition in HR**\n",
    "\n",
    "Attrition in human resources refers to the gradual loss of employees overtime. In general, relatively high attrition is problematic for companies. HR professionals often assume a leadership role in designing company compensation programs, work culture, and motivation systems that help the organization retain top employees.\n",
    "\n",
    "How does Attrition affect companies? and how does HR Analytics help in analyzing attrition? We will discuss the first question here and for the second question, we will write the code and try to understand the process step by step.\n",
    "\n",
    "Attrition affecting Companies\n",
    "\n",
    "A major problem in high employee attrition is its cost to an organization. Job postings, hiring processes, paperwork, and new hire training are some of the common expenses of losing employees and replacing them. Additionally, regular employee turnover prohibits your organization from increasing its collective knowledge base and experience over time. This is especially concerning if your business is customer-facing, as customers often prefer to interact with familiar people. Errors and issues are more likely if you constantly have new workers.\n",
    "\n",
    " \n",
    "\n",
    "Note: You can find the dataset in the link below.\n",
    "\n",
    "Downlaod Files:\n",
    "https://github.com/dsrscientist/IBM_HR_Attrition_Rate_Analytics"
   ]
  },
  {
   "cell_type": "code",
   "execution_count": 5,
   "id": "05c19d12",
   "metadata": {},
   "outputs": [
    {
     "data": {
      "text/html": [
       "<div>\n",
       "<style scoped>\n",
       "    .dataframe tbody tr th:only-of-type {\n",
       "        vertical-align: middle;\n",
       "    }\n",
       "\n",
       "    .dataframe tbody tr th {\n",
       "        vertical-align: top;\n",
       "    }\n",
       "\n",
       "    .dataframe thead th {\n",
       "        text-align: right;\n",
       "    }\n",
       "</style>\n",
       "<table border=\"1\" class=\"dataframe\">\n",
       "  <thead>\n",
       "    <tr style=\"text-align: right;\">\n",
       "      <th></th>\n",
       "      <th>Age</th>\n",
       "      <th>Attrition</th>\n",
       "      <th>BusinessTravel</th>\n",
       "      <th>DailyRate</th>\n",
       "      <th>Department</th>\n",
       "      <th>DistanceFromHome</th>\n",
       "      <th>Education</th>\n",
       "      <th>EducationField</th>\n",
       "      <th>EmployeeCount</th>\n",
       "      <th>EmployeeNumber</th>\n",
       "      <th>...</th>\n",
       "      <th>RelationshipSatisfaction</th>\n",
       "      <th>StandardHours</th>\n",
       "      <th>StockOptionLevel</th>\n",
       "      <th>TotalWorkingYears</th>\n",
       "      <th>TrainingTimesLastYear</th>\n",
       "      <th>WorkLifeBalance</th>\n",
       "      <th>YearsAtCompany</th>\n",
       "      <th>YearsInCurrentRole</th>\n",
       "      <th>YearsSinceLastPromotion</th>\n",
       "      <th>YearsWithCurrManager</th>\n",
       "    </tr>\n",
       "  </thead>\n",
       "  <tbody>\n",
       "    <tr>\n",
       "      <th>0</th>\n",
       "      <td>41</td>\n",
       "      <td>Yes</td>\n",
       "      <td>Travel_Rarely</td>\n",
       "      <td>1102</td>\n",
       "      <td>Sales</td>\n",
       "      <td>1</td>\n",
       "      <td>2</td>\n",
       "      <td>Life Sciences</td>\n",
       "      <td>1</td>\n",
       "      <td>1</td>\n",
       "      <td>...</td>\n",
       "      <td>1</td>\n",
       "      <td>80</td>\n",
       "      <td>0</td>\n",
       "      <td>8</td>\n",
       "      <td>0</td>\n",
       "      <td>1</td>\n",
       "      <td>6</td>\n",
       "      <td>4</td>\n",
       "      <td>0</td>\n",
       "      <td>5</td>\n",
       "    </tr>\n",
       "    <tr>\n",
       "      <th>1</th>\n",
       "      <td>49</td>\n",
       "      <td>No</td>\n",
       "      <td>Travel_Frequently</td>\n",
       "      <td>279</td>\n",
       "      <td>Research &amp; Development</td>\n",
       "      <td>8</td>\n",
       "      <td>1</td>\n",
       "      <td>Life Sciences</td>\n",
       "      <td>1</td>\n",
       "      <td>2</td>\n",
       "      <td>...</td>\n",
       "      <td>4</td>\n",
       "      <td>80</td>\n",
       "      <td>1</td>\n",
       "      <td>10</td>\n",
       "      <td>3</td>\n",
       "      <td>3</td>\n",
       "      <td>10</td>\n",
       "      <td>7</td>\n",
       "      <td>1</td>\n",
       "      <td>7</td>\n",
       "    </tr>\n",
       "    <tr>\n",
       "      <th>2</th>\n",
       "      <td>37</td>\n",
       "      <td>Yes</td>\n",
       "      <td>Travel_Rarely</td>\n",
       "      <td>1373</td>\n",
       "      <td>Research &amp; Development</td>\n",
       "      <td>2</td>\n",
       "      <td>2</td>\n",
       "      <td>Other</td>\n",
       "      <td>1</td>\n",
       "      <td>4</td>\n",
       "      <td>...</td>\n",
       "      <td>2</td>\n",
       "      <td>80</td>\n",
       "      <td>0</td>\n",
       "      <td>7</td>\n",
       "      <td>3</td>\n",
       "      <td>3</td>\n",
       "      <td>0</td>\n",
       "      <td>0</td>\n",
       "      <td>0</td>\n",
       "      <td>0</td>\n",
       "    </tr>\n",
       "    <tr>\n",
       "      <th>3</th>\n",
       "      <td>33</td>\n",
       "      <td>No</td>\n",
       "      <td>Travel_Frequently</td>\n",
       "      <td>1392</td>\n",
       "      <td>Research &amp; Development</td>\n",
       "      <td>3</td>\n",
       "      <td>4</td>\n",
       "      <td>Life Sciences</td>\n",
       "      <td>1</td>\n",
       "      <td>5</td>\n",
       "      <td>...</td>\n",
       "      <td>3</td>\n",
       "      <td>80</td>\n",
       "      <td>0</td>\n",
       "      <td>8</td>\n",
       "      <td>3</td>\n",
       "      <td>3</td>\n",
       "      <td>8</td>\n",
       "      <td>7</td>\n",
       "      <td>3</td>\n",
       "      <td>0</td>\n",
       "    </tr>\n",
       "    <tr>\n",
       "      <th>4</th>\n",
       "      <td>27</td>\n",
       "      <td>No</td>\n",
       "      <td>Travel_Rarely</td>\n",
       "      <td>591</td>\n",
       "      <td>Research &amp; Development</td>\n",
       "      <td>2</td>\n",
       "      <td>1</td>\n",
       "      <td>Medical</td>\n",
       "      <td>1</td>\n",
       "      <td>7</td>\n",
       "      <td>...</td>\n",
       "      <td>4</td>\n",
       "      <td>80</td>\n",
       "      <td>1</td>\n",
       "      <td>6</td>\n",
       "      <td>3</td>\n",
       "      <td>3</td>\n",
       "      <td>2</td>\n",
       "      <td>2</td>\n",
       "      <td>2</td>\n",
       "      <td>2</td>\n",
       "    </tr>\n",
       "  </tbody>\n",
       "</table>\n",
       "<p>5 rows × 35 columns</p>\n",
       "</div>"
      ],
      "text/plain": [
       "   Age Attrition     BusinessTravel  DailyRate              Department  \\\n",
       "0   41       Yes      Travel_Rarely       1102                   Sales   \n",
       "1   49        No  Travel_Frequently        279  Research & Development   \n",
       "2   37       Yes      Travel_Rarely       1373  Research & Development   \n",
       "3   33        No  Travel_Frequently       1392  Research & Development   \n",
       "4   27        No      Travel_Rarely        591  Research & Development   \n",
       "\n",
       "   DistanceFromHome  Education EducationField  EmployeeCount  EmployeeNumber  \\\n",
       "0                 1          2  Life Sciences              1               1   \n",
       "1                 8          1  Life Sciences              1               2   \n",
       "2                 2          2          Other              1               4   \n",
       "3                 3          4  Life Sciences              1               5   \n",
       "4                 2          1        Medical              1               7   \n",
       "\n",
       "   ...  RelationshipSatisfaction StandardHours  StockOptionLevel  \\\n",
       "0  ...                         1            80                 0   \n",
       "1  ...                         4            80                 1   \n",
       "2  ...                         2            80                 0   \n",
       "3  ...                         3            80                 0   \n",
       "4  ...                         4            80                 1   \n",
       "\n",
       "   TotalWorkingYears  TrainingTimesLastYear WorkLifeBalance  YearsAtCompany  \\\n",
       "0                  8                      0               1               6   \n",
       "1                 10                      3               3              10   \n",
       "2                  7                      3               3               0   \n",
       "3                  8                      3               3               8   \n",
       "4                  6                      3               3               2   \n",
       "\n",
       "  YearsInCurrentRole  YearsSinceLastPromotion  YearsWithCurrManager  \n",
       "0                  4                        0                     5  \n",
       "1                  7                        1                     7  \n",
       "2                  0                        0                     0  \n",
       "3                  7                        3                     0  \n",
       "4                  2                        2                     2  \n",
       "\n",
       "[5 rows x 35 columns]"
      ]
     },
     "execution_count": 5,
     "metadata": {},
     "output_type": "execute_result"
    }
   ],
   "source": [
    "df=pd.read_csv('WA_Fn-UseC_-HR-Employee-Attrition.csv')\n",
    "df.head()"
   ]
  },
  {
   "cell_type": "code",
   "execution_count": 3,
   "id": "2f678611",
   "metadata": {},
   "outputs": [
    {
     "data": {
      "text/plain": [
       "Index(['Age', 'Attrition', 'BusinessTravel', 'DailyRate', 'Department',\n",
       "       'DistanceFromHome', 'Education', 'EducationField', 'EmployeeCount',\n",
       "       'EmployeeNumber', 'EnvironmentSatisfaction', 'Gender', 'HourlyRate',\n",
       "       'JobInvolvement', 'JobLevel', 'JobRole', 'JobSatisfaction',\n",
       "       'MaritalStatus', 'MonthlyIncome', 'MonthlyRate', 'NumCompaniesWorked',\n",
       "       'Over18', 'OverTime', 'PercentSalaryHike', 'PerformanceRating',\n",
       "       'RelationshipSatisfaction', 'StandardHours', 'StockOptionLevel',\n",
       "       'TotalWorkingYears', 'TrainingTimesLastYear', 'WorkLifeBalance',\n",
       "       'YearsAtCompany', 'YearsInCurrentRole', 'YearsSinceLastPromotion',\n",
       "       'YearsWithCurrManager'],\n",
       "      dtype='object')"
      ]
     },
     "execution_count": 3,
     "metadata": {},
     "output_type": "execute_result"
    }
   ],
   "source": [
    "df.columns"
   ]
  },
  {
   "cell_type": "code",
   "execution_count": 4,
   "id": "b17de72b",
   "metadata": {},
   "outputs": [
    {
     "name": "stdout",
     "output_type": "stream",
     "text": [
      "<class 'pandas.core.frame.DataFrame'>\n",
      "RangeIndex: 1470 entries, 0 to 1469\n",
      "Data columns (total 35 columns):\n",
      " #   Column                    Non-Null Count  Dtype \n",
      "---  ------                    --------------  ----- \n",
      " 0   Age                       1470 non-null   int64 \n",
      " 1   Attrition                 1470 non-null   object\n",
      " 2   BusinessTravel            1470 non-null   object\n",
      " 3   DailyRate                 1470 non-null   int64 \n",
      " 4   Department                1470 non-null   object\n",
      " 5   DistanceFromHome          1470 non-null   int64 \n",
      " 6   Education                 1470 non-null   int64 \n",
      " 7   EducationField            1470 non-null   object\n",
      " 8   EmployeeCount             1470 non-null   int64 \n",
      " 9   EmployeeNumber            1470 non-null   int64 \n",
      " 10  EnvironmentSatisfaction   1470 non-null   int64 \n",
      " 11  Gender                    1470 non-null   object\n",
      " 12  HourlyRate                1470 non-null   int64 \n",
      " 13  JobInvolvement            1470 non-null   int64 \n",
      " 14  JobLevel                  1470 non-null   int64 \n",
      " 15  JobRole                   1470 non-null   object\n",
      " 16  JobSatisfaction           1470 non-null   int64 \n",
      " 17  MaritalStatus             1470 non-null   object\n",
      " 18  MonthlyIncome             1470 non-null   int64 \n",
      " 19  MonthlyRate               1470 non-null   int64 \n",
      " 20  NumCompaniesWorked        1470 non-null   int64 \n",
      " 21  Over18                    1470 non-null   object\n",
      " 22  OverTime                  1470 non-null   object\n",
      " 23  PercentSalaryHike         1470 non-null   int64 \n",
      " 24  PerformanceRating         1470 non-null   int64 \n",
      " 25  RelationshipSatisfaction  1470 non-null   int64 \n",
      " 26  StandardHours             1470 non-null   int64 \n",
      " 27  StockOptionLevel          1470 non-null   int64 \n",
      " 28  TotalWorkingYears         1470 non-null   int64 \n",
      " 29  TrainingTimesLastYear     1470 non-null   int64 \n",
      " 30  WorkLifeBalance           1470 non-null   int64 \n",
      " 31  YearsAtCompany            1470 non-null   int64 \n",
      " 32  YearsInCurrentRole        1470 non-null   int64 \n",
      " 33  YearsSinceLastPromotion   1470 non-null   int64 \n",
      " 34  YearsWithCurrManager      1470 non-null   int64 \n",
      "dtypes: int64(26), object(9)\n",
      "memory usage: 402.1+ KB\n"
     ]
    }
   ],
   "source": [
    "df.info()"
   ]
  },
  {
   "cell_type": "markdown",
   "id": "e69bb6f6",
   "metadata": {},
   "source": [
    "**Continous Features(26):**\n",
    "\n",
    "    ['Age', 'DailyRate', 'DistanceFromHome', 'Education',  'EmployeeCount',\n",
    "       'EmployeeNumber', 'EnvironmentSatisfaction',  'HourlyRate',\n",
    "       'JobInvolvement', 'JobLevel', 'JobSatisfaction',\n",
    "        'MonthlyIncome', 'MonthlyRate', 'NumCompaniesWorked',\n",
    "        'PercentSalaryHike', 'PerformanceRating',\n",
    "       'RelationshipSatisfaction', 'StandardHours', 'StockOptionLevel',\n",
    "       'TotalWorkingYears', 'TrainingTimesLastYear', 'WorkLifeBalance',\n",
    "       'YearsAtCompany', 'YearsInCurrentRole', 'YearsSinceLastPromotion',\n",
    "       'YearsWithCurrManager']\n",
    "       \n",
    "**Catagorical features(9):**\n",
    "\n",
    "    ['Attrition', 'BusinessTravel','Department','EducationField','Gender','JobRole','MaritalStatus','Over18', 'OverTime' ]\n",
    "    \n",
    "**we can see there are no null values present in dataset**\n",
    "**Total number of records are 1470 and total number of features are 35**"
   ]
  },
  {
   "cell_type": "code",
   "execution_count": 46,
   "id": "602f51d5",
   "metadata": {},
   "outputs": [
    {
     "data": {
      "text/html": [
       "<div>\n",
       "<style scoped>\n",
       "    .dataframe tbody tr th:only-of-type {\n",
       "        vertical-align: middle;\n",
       "    }\n",
       "\n",
       "    .dataframe tbody tr th {\n",
       "        vertical-align: top;\n",
       "    }\n",
       "\n",
       "    .dataframe thead th {\n",
       "        text-align: right;\n",
       "    }\n",
       "</style>\n",
       "<table border=\"1\" class=\"dataframe\">\n",
       "  <thead>\n",
       "    <tr style=\"text-align: right;\">\n",
       "      <th></th>\n",
       "      <th>Age</th>\n",
       "      <th>DailyRate</th>\n",
       "      <th>DistanceFromHome</th>\n",
       "      <th>Education</th>\n",
       "      <th>EmployeeCount</th>\n",
       "      <th>EmployeeNumber</th>\n",
       "      <th>EnvironmentSatisfaction</th>\n",
       "      <th>HourlyRate</th>\n",
       "      <th>JobInvolvement</th>\n",
       "      <th>JobLevel</th>\n",
       "      <th>...</th>\n",
       "      <th>RelationshipSatisfaction</th>\n",
       "      <th>StandardHours</th>\n",
       "      <th>StockOptionLevel</th>\n",
       "      <th>TotalWorkingYears</th>\n",
       "      <th>TrainingTimesLastYear</th>\n",
       "      <th>WorkLifeBalance</th>\n",
       "      <th>YearsAtCompany</th>\n",
       "      <th>YearsInCurrentRole</th>\n",
       "      <th>YearsSinceLastPromotion</th>\n",
       "      <th>YearsWithCurrManager</th>\n",
       "    </tr>\n",
       "  </thead>\n",
       "  <tbody>\n",
       "    <tr>\n",
       "      <th>count</th>\n",
       "      <td>1470.000000</td>\n",
       "      <td>1470.000000</td>\n",
       "      <td>1470.000000</td>\n",
       "      <td>1470.000000</td>\n",
       "      <td>1470.0</td>\n",
       "      <td>1470.000000</td>\n",
       "      <td>1470.000000</td>\n",
       "      <td>1470.000000</td>\n",
       "      <td>1470.000000</td>\n",
       "      <td>1470.000000</td>\n",
       "      <td>...</td>\n",
       "      <td>1470.000000</td>\n",
       "      <td>1470.0</td>\n",
       "      <td>1470.000000</td>\n",
       "      <td>1470.000000</td>\n",
       "      <td>1470.000000</td>\n",
       "      <td>1470.000000</td>\n",
       "      <td>1470.000000</td>\n",
       "      <td>1470.000000</td>\n",
       "      <td>1470.000000</td>\n",
       "      <td>1470.000000</td>\n",
       "    </tr>\n",
       "    <tr>\n",
       "      <th>mean</th>\n",
       "      <td>36.923810</td>\n",
       "      <td>802.485714</td>\n",
       "      <td>9.192517</td>\n",
       "      <td>2.912925</td>\n",
       "      <td>1.0</td>\n",
       "      <td>1024.865306</td>\n",
       "      <td>2.721769</td>\n",
       "      <td>65.891156</td>\n",
       "      <td>2.729932</td>\n",
       "      <td>2.063946</td>\n",
       "      <td>...</td>\n",
       "      <td>2.712245</td>\n",
       "      <td>80.0</td>\n",
       "      <td>0.793878</td>\n",
       "      <td>11.279592</td>\n",
       "      <td>2.799320</td>\n",
       "      <td>2.761224</td>\n",
       "      <td>7.008163</td>\n",
       "      <td>4.229252</td>\n",
       "      <td>2.187755</td>\n",
       "      <td>4.123129</td>\n",
       "    </tr>\n",
       "    <tr>\n",
       "      <th>std</th>\n",
       "      <td>9.135373</td>\n",
       "      <td>403.509100</td>\n",
       "      <td>8.106864</td>\n",
       "      <td>1.024165</td>\n",
       "      <td>0.0</td>\n",
       "      <td>602.024335</td>\n",
       "      <td>1.093082</td>\n",
       "      <td>20.329428</td>\n",
       "      <td>0.711561</td>\n",
       "      <td>1.106940</td>\n",
       "      <td>...</td>\n",
       "      <td>1.081209</td>\n",
       "      <td>0.0</td>\n",
       "      <td>0.852077</td>\n",
       "      <td>7.780782</td>\n",
       "      <td>1.289271</td>\n",
       "      <td>0.706476</td>\n",
       "      <td>6.126525</td>\n",
       "      <td>3.623137</td>\n",
       "      <td>3.222430</td>\n",
       "      <td>3.568136</td>\n",
       "    </tr>\n",
       "    <tr>\n",
       "      <th>min</th>\n",
       "      <td>18.000000</td>\n",
       "      <td>102.000000</td>\n",
       "      <td>1.000000</td>\n",
       "      <td>1.000000</td>\n",
       "      <td>1.0</td>\n",
       "      <td>1.000000</td>\n",
       "      <td>1.000000</td>\n",
       "      <td>30.000000</td>\n",
       "      <td>1.000000</td>\n",
       "      <td>1.000000</td>\n",
       "      <td>...</td>\n",
       "      <td>1.000000</td>\n",
       "      <td>80.0</td>\n",
       "      <td>0.000000</td>\n",
       "      <td>0.000000</td>\n",
       "      <td>0.000000</td>\n",
       "      <td>1.000000</td>\n",
       "      <td>0.000000</td>\n",
       "      <td>0.000000</td>\n",
       "      <td>0.000000</td>\n",
       "      <td>0.000000</td>\n",
       "    </tr>\n",
       "    <tr>\n",
       "      <th>25%</th>\n",
       "      <td>30.000000</td>\n",
       "      <td>465.000000</td>\n",
       "      <td>2.000000</td>\n",
       "      <td>2.000000</td>\n",
       "      <td>1.0</td>\n",
       "      <td>491.250000</td>\n",
       "      <td>2.000000</td>\n",
       "      <td>48.000000</td>\n",
       "      <td>2.000000</td>\n",
       "      <td>1.000000</td>\n",
       "      <td>...</td>\n",
       "      <td>2.000000</td>\n",
       "      <td>80.0</td>\n",
       "      <td>0.000000</td>\n",
       "      <td>6.000000</td>\n",
       "      <td>2.000000</td>\n",
       "      <td>2.000000</td>\n",
       "      <td>3.000000</td>\n",
       "      <td>2.000000</td>\n",
       "      <td>0.000000</td>\n",
       "      <td>2.000000</td>\n",
       "    </tr>\n",
       "    <tr>\n",
       "      <th>50%</th>\n",
       "      <td>36.000000</td>\n",
       "      <td>802.000000</td>\n",
       "      <td>7.000000</td>\n",
       "      <td>3.000000</td>\n",
       "      <td>1.0</td>\n",
       "      <td>1020.500000</td>\n",
       "      <td>3.000000</td>\n",
       "      <td>66.000000</td>\n",
       "      <td>3.000000</td>\n",
       "      <td>2.000000</td>\n",
       "      <td>...</td>\n",
       "      <td>3.000000</td>\n",
       "      <td>80.0</td>\n",
       "      <td>1.000000</td>\n",
       "      <td>10.000000</td>\n",
       "      <td>3.000000</td>\n",
       "      <td>3.000000</td>\n",
       "      <td>5.000000</td>\n",
       "      <td>3.000000</td>\n",
       "      <td>1.000000</td>\n",
       "      <td>3.000000</td>\n",
       "    </tr>\n",
       "    <tr>\n",
       "      <th>75%</th>\n",
       "      <td>43.000000</td>\n",
       "      <td>1157.000000</td>\n",
       "      <td>14.000000</td>\n",
       "      <td>4.000000</td>\n",
       "      <td>1.0</td>\n",
       "      <td>1555.750000</td>\n",
       "      <td>4.000000</td>\n",
       "      <td>83.750000</td>\n",
       "      <td>3.000000</td>\n",
       "      <td>3.000000</td>\n",
       "      <td>...</td>\n",
       "      <td>4.000000</td>\n",
       "      <td>80.0</td>\n",
       "      <td>1.000000</td>\n",
       "      <td>15.000000</td>\n",
       "      <td>3.000000</td>\n",
       "      <td>3.000000</td>\n",
       "      <td>9.000000</td>\n",
       "      <td>7.000000</td>\n",
       "      <td>3.000000</td>\n",
       "      <td>7.000000</td>\n",
       "    </tr>\n",
       "    <tr>\n",
       "      <th>max</th>\n",
       "      <td>60.000000</td>\n",
       "      <td>1499.000000</td>\n",
       "      <td>29.000000</td>\n",
       "      <td>5.000000</td>\n",
       "      <td>1.0</td>\n",
       "      <td>2068.000000</td>\n",
       "      <td>4.000000</td>\n",
       "      <td>100.000000</td>\n",
       "      <td>4.000000</td>\n",
       "      <td>5.000000</td>\n",
       "      <td>...</td>\n",
       "      <td>4.000000</td>\n",
       "      <td>80.0</td>\n",
       "      <td>3.000000</td>\n",
       "      <td>40.000000</td>\n",
       "      <td>6.000000</td>\n",
       "      <td>4.000000</td>\n",
       "      <td>40.000000</td>\n",
       "      <td>18.000000</td>\n",
       "      <td>15.000000</td>\n",
       "      <td>17.000000</td>\n",
       "    </tr>\n",
       "  </tbody>\n",
       "</table>\n",
       "<p>8 rows × 26 columns</p>\n",
       "</div>"
      ],
      "text/plain": [
       "               Age    DailyRate  DistanceFromHome    Education  EmployeeCount  \\\n",
       "count  1470.000000  1470.000000       1470.000000  1470.000000         1470.0   \n",
       "mean     36.923810   802.485714          9.192517     2.912925            1.0   \n",
       "std       9.135373   403.509100          8.106864     1.024165            0.0   \n",
       "min      18.000000   102.000000          1.000000     1.000000            1.0   \n",
       "25%      30.000000   465.000000          2.000000     2.000000            1.0   \n",
       "50%      36.000000   802.000000          7.000000     3.000000            1.0   \n",
       "75%      43.000000  1157.000000         14.000000     4.000000            1.0   \n",
       "max      60.000000  1499.000000         29.000000     5.000000            1.0   \n",
       "\n",
       "       EmployeeNumber  EnvironmentSatisfaction   HourlyRate  JobInvolvement  \\\n",
       "count     1470.000000              1470.000000  1470.000000     1470.000000   \n",
       "mean      1024.865306                 2.721769    65.891156        2.729932   \n",
       "std        602.024335                 1.093082    20.329428        0.711561   \n",
       "min          1.000000                 1.000000    30.000000        1.000000   \n",
       "25%        491.250000                 2.000000    48.000000        2.000000   \n",
       "50%       1020.500000                 3.000000    66.000000        3.000000   \n",
       "75%       1555.750000                 4.000000    83.750000        3.000000   \n",
       "max       2068.000000                 4.000000   100.000000        4.000000   \n",
       "\n",
       "          JobLevel  ...  RelationshipSatisfaction  StandardHours  \\\n",
       "count  1470.000000  ...               1470.000000         1470.0   \n",
       "mean      2.063946  ...                  2.712245           80.0   \n",
       "std       1.106940  ...                  1.081209            0.0   \n",
       "min       1.000000  ...                  1.000000           80.0   \n",
       "25%       1.000000  ...                  2.000000           80.0   \n",
       "50%       2.000000  ...                  3.000000           80.0   \n",
       "75%       3.000000  ...                  4.000000           80.0   \n",
       "max       5.000000  ...                  4.000000           80.0   \n",
       "\n",
       "       StockOptionLevel  TotalWorkingYears  TrainingTimesLastYear  \\\n",
       "count       1470.000000        1470.000000            1470.000000   \n",
       "mean           0.793878          11.279592               2.799320   \n",
       "std            0.852077           7.780782               1.289271   \n",
       "min            0.000000           0.000000               0.000000   \n",
       "25%            0.000000           6.000000               2.000000   \n",
       "50%            1.000000          10.000000               3.000000   \n",
       "75%            1.000000          15.000000               3.000000   \n",
       "max            3.000000          40.000000               6.000000   \n",
       "\n",
       "       WorkLifeBalance  YearsAtCompany  YearsInCurrentRole  \\\n",
       "count      1470.000000     1470.000000         1470.000000   \n",
       "mean          2.761224        7.008163            4.229252   \n",
       "std           0.706476        6.126525            3.623137   \n",
       "min           1.000000        0.000000            0.000000   \n",
       "25%           2.000000        3.000000            2.000000   \n",
       "50%           3.000000        5.000000            3.000000   \n",
       "75%           3.000000        9.000000            7.000000   \n",
       "max           4.000000       40.000000           18.000000   \n",
       "\n",
       "       YearsSinceLastPromotion  YearsWithCurrManager  \n",
       "count              1470.000000           1470.000000  \n",
       "mean                  2.187755              4.123129  \n",
       "std                   3.222430              3.568136  \n",
       "min                   0.000000              0.000000  \n",
       "25%                   0.000000              2.000000  \n",
       "50%                   1.000000              3.000000  \n",
       "75%                   3.000000              7.000000  \n",
       "max                  15.000000             17.000000  \n",
       "\n",
       "[8 rows x 26 columns]"
      ]
     },
     "execution_count": 46,
     "metadata": {},
     "output_type": "execute_result"
    }
   ],
   "source": [
    "df.describe()"
   ]
  },
  {
   "cell_type": "markdown",
   "id": "fcb77b48",
   "metadata": {},
   "source": [
    "**Observations:\n",
    "1) Most of the features have 50% quartile value and Mean value almost Same.\n",
    "2) DistanceFromHome,JobLevel,StockOptionLevel ,TotalWorkingYears,TrainingTimesLastYear,YearsAtCompany ,YearsInCurrentRole,YearsSinceLastPromotion ,YearsWithCurrManager in these features we can observe there is lots of diff. between 75% value and Max value , so there is possibility of finding outliers.\n",
    "3)All features have same number of records so no null value present.**"
   ]
  },
  {
   "cell_type": "code",
   "execution_count": 64,
   "id": "581a6cfe",
   "metadata": {},
   "outputs": [
    {
     "data": {
      "text/plain": [
       "array(['Yes', 'No'], dtype=object)"
      ]
     },
     "execution_count": 64,
     "metadata": {},
     "output_type": "execute_result"
    }
   ],
   "source": [
    "df['Attrition'].unique()"
   ]
  },
  {
   "cell_type": "code",
   "execution_count": 65,
   "id": "4e9614db",
   "metadata": {},
   "outputs": [
    {
     "data": {
      "text/plain": [
       "array(['Travel_Rarely', 'Travel_Frequently', 'Non-Travel'], dtype=object)"
      ]
     },
     "execution_count": 65,
     "metadata": {},
     "output_type": "execute_result"
    }
   ],
   "source": [
    "df['BusinessTravel'].unique()"
   ]
  },
  {
   "cell_type": "code",
   "execution_count": 76,
   "id": "ba6ce599",
   "metadata": {},
   "outputs": [
    {
     "name": "stdout",
     "output_type": "stream",
     "text": [
      "['Y'] [1] [80]\n"
     ]
    }
   ],
   "source": [
    "print(df['Over18'].unique(),df['EmployeeCount'].unique(),df['StandardHours'].unique())"
   ]
  },
  {
   "cell_type": "markdown",
   "id": "4b668437",
   "metadata": {},
   "source": [
    "**since 'Over18'='Y' ,'EmployeeCount'=1, 'StandardHours'=80 is common for all so will not make diffrence in predictio so will drop them.**"
   ]
  },
  {
   "cell_type": "code",
   "execution_count": 6,
   "id": "33e28293",
   "metadata": {},
   "outputs": [],
   "source": [
    "## Droping columns ['Over18','EmployeeCount','StandardHours']\n",
    "col=['Over18','EmployeeCount','StandardHours']\n",
    "df.drop(col,axis=1,inplace=True)"
   ]
  },
  {
   "cell_type": "code",
   "execution_count": 7,
   "id": "613c2c96",
   "metadata": {},
   "outputs": [
    {
     "data": {
      "text/html": [
       "<div>\n",
       "<style scoped>\n",
       "    .dataframe tbody tr th:only-of-type {\n",
       "        vertical-align: middle;\n",
       "    }\n",
       "\n",
       "    .dataframe tbody tr th {\n",
       "        vertical-align: top;\n",
       "    }\n",
       "\n",
       "    .dataframe thead th {\n",
       "        text-align: right;\n",
       "    }\n",
       "</style>\n",
       "<table border=\"1\" class=\"dataframe\">\n",
       "  <thead>\n",
       "    <tr style=\"text-align: right;\">\n",
       "      <th></th>\n",
       "      <th>Age</th>\n",
       "      <th>Attrition</th>\n",
       "      <th>BusinessTravel</th>\n",
       "      <th>DailyRate</th>\n",
       "      <th>Department</th>\n",
       "      <th>DistanceFromHome</th>\n",
       "      <th>Education</th>\n",
       "      <th>EducationField</th>\n",
       "      <th>EmployeeNumber</th>\n",
       "      <th>EnvironmentSatisfaction</th>\n",
       "      <th>...</th>\n",
       "      <th>PerformanceRating</th>\n",
       "      <th>RelationshipSatisfaction</th>\n",
       "      <th>StockOptionLevel</th>\n",
       "      <th>TotalWorkingYears</th>\n",
       "      <th>TrainingTimesLastYear</th>\n",
       "      <th>WorkLifeBalance</th>\n",
       "      <th>YearsAtCompany</th>\n",
       "      <th>YearsInCurrentRole</th>\n",
       "      <th>YearsSinceLastPromotion</th>\n",
       "      <th>YearsWithCurrManager</th>\n",
       "    </tr>\n",
       "  </thead>\n",
       "  <tbody>\n",
       "    <tr>\n",
       "      <th>0</th>\n",
       "      <td>41</td>\n",
       "      <td>Yes</td>\n",
       "      <td>Travel_Rarely</td>\n",
       "      <td>1102</td>\n",
       "      <td>Sales</td>\n",
       "      <td>1</td>\n",
       "      <td>2</td>\n",
       "      <td>Life Sciences</td>\n",
       "      <td>1</td>\n",
       "      <td>2</td>\n",
       "      <td>...</td>\n",
       "      <td>3</td>\n",
       "      <td>1</td>\n",
       "      <td>0</td>\n",
       "      <td>8</td>\n",
       "      <td>0</td>\n",
       "      <td>1</td>\n",
       "      <td>6</td>\n",
       "      <td>4</td>\n",
       "      <td>0</td>\n",
       "      <td>5</td>\n",
       "    </tr>\n",
       "    <tr>\n",
       "      <th>1</th>\n",
       "      <td>49</td>\n",
       "      <td>No</td>\n",
       "      <td>Travel_Frequently</td>\n",
       "      <td>279</td>\n",
       "      <td>Research &amp; Development</td>\n",
       "      <td>8</td>\n",
       "      <td>1</td>\n",
       "      <td>Life Sciences</td>\n",
       "      <td>2</td>\n",
       "      <td>3</td>\n",
       "      <td>...</td>\n",
       "      <td>4</td>\n",
       "      <td>4</td>\n",
       "      <td>1</td>\n",
       "      <td>10</td>\n",
       "      <td>3</td>\n",
       "      <td>3</td>\n",
       "      <td>10</td>\n",
       "      <td>7</td>\n",
       "      <td>1</td>\n",
       "      <td>7</td>\n",
       "    </tr>\n",
       "    <tr>\n",
       "      <th>2</th>\n",
       "      <td>37</td>\n",
       "      <td>Yes</td>\n",
       "      <td>Travel_Rarely</td>\n",
       "      <td>1373</td>\n",
       "      <td>Research &amp; Development</td>\n",
       "      <td>2</td>\n",
       "      <td>2</td>\n",
       "      <td>Other</td>\n",
       "      <td>4</td>\n",
       "      <td>4</td>\n",
       "      <td>...</td>\n",
       "      <td>3</td>\n",
       "      <td>2</td>\n",
       "      <td>0</td>\n",
       "      <td>7</td>\n",
       "      <td>3</td>\n",
       "      <td>3</td>\n",
       "      <td>0</td>\n",
       "      <td>0</td>\n",
       "      <td>0</td>\n",
       "      <td>0</td>\n",
       "    </tr>\n",
       "    <tr>\n",
       "      <th>3</th>\n",
       "      <td>33</td>\n",
       "      <td>No</td>\n",
       "      <td>Travel_Frequently</td>\n",
       "      <td>1392</td>\n",
       "      <td>Research &amp; Development</td>\n",
       "      <td>3</td>\n",
       "      <td>4</td>\n",
       "      <td>Life Sciences</td>\n",
       "      <td>5</td>\n",
       "      <td>4</td>\n",
       "      <td>...</td>\n",
       "      <td>3</td>\n",
       "      <td>3</td>\n",
       "      <td>0</td>\n",
       "      <td>8</td>\n",
       "      <td>3</td>\n",
       "      <td>3</td>\n",
       "      <td>8</td>\n",
       "      <td>7</td>\n",
       "      <td>3</td>\n",
       "      <td>0</td>\n",
       "    </tr>\n",
       "    <tr>\n",
       "      <th>4</th>\n",
       "      <td>27</td>\n",
       "      <td>No</td>\n",
       "      <td>Travel_Rarely</td>\n",
       "      <td>591</td>\n",
       "      <td>Research &amp; Development</td>\n",
       "      <td>2</td>\n",
       "      <td>1</td>\n",
       "      <td>Medical</td>\n",
       "      <td>7</td>\n",
       "      <td>1</td>\n",
       "      <td>...</td>\n",
       "      <td>3</td>\n",
       "      <td>4</td>\n",
       "      <td>1</td>\n",
       "      <td>6</td>\n",
       "      <td>3</td>\n",
       "      <td>3</td>\n",
       "      <td>2</td>\n",
       "      <td>2</td>\n",
       "      <td>2</td>\n",
       "      <td>2</td>\n",
       "    </tr>\n",
       "  </tbody>\n",
       "</table>\n",
       "<p>5 rows × 32 columns</p>\n",
       "</div>"
      ],
      "text/plain": [
       "   Age Attrition     BusinessTravel  DailyRate              Department  \\\n",
       "0   41       Yes      Travel_Rarely       1102                   Sales   \n",
       "1   49        No  Travel_Frequently        279  Research & Development   \n",
       "2   37       Yes      Travel_Rarely       1373  Research & Development   \n",
       "3   33        No  Travel_Frequently       1392  Research & Development   \n",
       "4   27        No      Travel_Rarely        591  Research & Development   \n",
       "\n",
       "   DistanceFromHome  Education EducationField  EmployeeNumber  \\\n",
       "0                 1          2  Life Sciences               1   \n",
       "1                 8          1  Life Sciences               2   \n",
       "2                 2          2          Other               4   \n",
       "3                 3          4  Life Sciences               5   \n",
       "4                 2          1        Medical               7   \n",
       "\n",
       "   EnvironmentSatisfaction  ... PerformanceRating  RelationshipSatisfaction  \\\n",
       "0                        2  ...                 3                         1   \n",
       "1                        3  ...                 4                         4   \n",
       "2                        4  ...                 3                         2   \n",
       "3                        4  ...                 3                         3   \n",
       "4                        1  ...                 3                         4   \n",
       "\n",
       "   StockOptionLevel  TotalWorkingYears TrainingTimesLastYear  WorkLifeBalance  \\\n",
       "0                 0                  8                     0                1   \n",
       "1                 1                 10                     3                3   \n",
       "2                 0                  7                     3                3   \n",
       "3                 0                  8                     3                3   \n",
       "4                 1                  6                     3                3   \n",
       "\n",
       "  YearsAtCompany  YearsInCurrentRole  YearsSinceLastPromotion  \\\n",
       "0              6                   4                        0   \n",
       "1             10                   7                        1   \n",
       "2              0                   0                        0   \n",
       "3              8                   7                        3   \n",
       "4              2                   2                        2   \n",
       "\n",
       "   YearsWithCurrManager  \n",
       "0                     5  \n",
       "1                     7  \n",
       "2                     0  \n",
       "3                     0  \n",
       "4                     2  \n",
       "\n",
       "[5 rows x 32 columns]"
      ]
     },
     "execution_count": 7,
     "metadata": {},
     "output_type": "execute_result"
    }
   ],
   "source": [
    "df.head()"
   ]
  },
  {
   "cell_type": "code",
   "execution_count": 63,
   "id": "06cba4ec",
   "metadata": {
    "scrolled": true
   },
   "outputs": [
    {
     "data": {
      "text/plain": [
       "['Attrition',\n",
       " 'BusinessTravel',\n",
       " 'Department',\n",
       " 'EducationField',\n",
       " 'Gender',\n",
       " 'JobRole',\n",
       " 'MaritalStatus',\n",
       " 'Over18',\n",
       " 'OverTime']"
      ]
     },
     "execution_count": 63,
     "metadata": {},
     "output_type": "execute_result"
    }
   ],
   "source": [
    "['Age', 'Attrition', 'BusinessTravel', 'DailyRate', 'Department',\n",
    "       'DistanceFromHome', 'Education', 'EducationField', 'EmployeeCount',\n",
    "       'EmployeeNumber', 'EnvironmentSatisfaction', 'Gender', 'HourlyRate',\n",
    "       'JobInvolvement', 'JobLevel', 'JobRole', 'JobSatisfaction',\n",
    "       'MaritalStatus', 'MonthlyIncome', 'MonthlyRate', 'NumCompaniesWorked',\n",
    "       'Over18', 'OverTime', 'PercentSalaryHike', 'PerformanceRating',\n",
    "       'RelationshipSatisfaction', 'StandardHours', 'StockOptionLevel',\n",
    "       'TotalWorkingYears', 'TrainingTimesLastYear', 'WorkLifeBalance',\n",
    "       'YearsAtCompany', 'YearsInCurrentRole', 'YearsSinceLastPromotion',\n",
    "       'YearsWithCurrManager']"
   ]
  },
  {
   "cell_type": "markdown",
   "id": "06373450",
   "metadata": {},
   "source": [
    "### EDA :"
   ]
  },
  {
   "cell_type": "code",
   "execution_count": 134,
   "id": "c4178fb1",
   "metadata": {},
   "outputs": [],
   "source": [
    "\n",
    "# converting age into Age Groups 10-20,21-30,..into (1,2,3..)\n",
    "df['Age']=pd.cut(df['Age'], bins=[10,20,30,40,50,60], labels=np.arange(1,6))"
   ]
  },
  {
   "cell_type": "code",
   "execution_count": 135,
   "id": "32905368",
   "metadata": {},
   "outputs": [
    {
     "data": {
      "text/plain": [
       "0    4\n",
       "1    4\n",
       "2    3\n",
       "3    3\n",
       "4    2\n",
       "Name: Age, dtype: category\n",
       "Categories (5, int64): [1 < 2 < 3 < 4 < 5]"
      ]
     },
     "execution_count": 135,
     "metadata": {},
     "output_type": "execute_result"
    }
   ],
   "source": [
    "df['Age'].head()"
   ]
  },
  {
   "cell_type": "code",
   "execution_count": 138,
   "id": "2c13f111",
   "metadata": {},
   "outputs": [
    {
     "data": {
      "text/plain": [
       "<seaborn.axisgrid.FacetGrid at 0x19b74286e50>"
      ]
     },
     "execution_count": 138,
     "metadata": {},
     "output_type": "execute_result"
    },
    {
     "data": {
      "image/png": "[encoded data removed]",
      "text/plain": [
       "<Figure size 412x360 with 1 Axes>"
      ]
     },
     "metadata": {
      "needs_background": "light"
     },
     "output_type": "display_data"
    }
   ],
   "source": [
    "sns.catplot(x='Age',hue='Attrition' ,kind='count',data=df)"
   ]
  },
  {
   "cell_type": "markdown",
   "id": "a9af2583",
   "metadata": {},
   "source": [
    "**from above graph we can see 30-40 year age group attrition is less.**"
   ]
  },
  {
   "cell_type": "code",
   "execution_count": 140,
   "id": "4cee2c91",
   "metadata": {},
   "outputs": [
    {
     "data": {
      "text/plain": [
       "<seaborn.axisgrid.FacetGrid at 0x19b7429adc0>"
      ]
     },
     "execution_count": 140,
     "metadata": {},
     "output_type": "execute_result"
    },
    {
     "data": {
      "image/png": "[encoded data removed]",
      "text/plain": [
       "<Figure size 412x360 with 1 Axes>"
      ]
     },
     "metadata": {
      "needs_background": "light"
     },
     "output_type": "display_data"
    }
   ],
   "source": [
    "sns.catplot(x='BusinessTravel',hue='Attrition' ,kind='count',data=df)"
   ]
  },
  {
   "cell_type": "markdown",
   "id": "53d8a2aa",
   "metadata": {},
   "source": [
    "**As per the graph we can see Employees with frequent travel has highest attrition rate. Then Travel_Rarely and last \n",
    "Non_travelers.**\n",
    "\n",
    "    "
   ]
  },
  {
   "cell_type": "code",
   "execution_count": 147,
   "id": "435e99a1",
   "metadata": {},
   "outputs": [
    {
     "data": {
      "text/plain": [
       "<seaborn.axisgrid.FacetGrid at 0x19b748d8d60>"
      ]
     },
     "execution_count": 147,
     "metadata": {},
     "output_type": "execute_result"
    },
    {
     "data": {
      "image/png": "[encoded data removed]",
      "text/plain": [
       "<Figure size 412x360 with 1 Axes>"
      ]
     },
     "metadata": {
      "needs_background": "light"
     },
     "output_type": "display_data"
    }
   ],
   "source": [
    "sns.catplot(x='Department',hue='Attrition' ,kind='count',data=df)\n",
    "#sns.(x='Department',y='Attrition',data=df)"
   ]
  },
  {
   "cell_type": "code",
   "execution_count": 148,
   "id": "b4b27171",
   "metadata": {},
   "outputs": [
    {
     "data": {
      "text/plain": [
       "Research & Development    961\n",
       "Sales                     446\n",
       "Human Resources            63\n",
       "Name: Department, dtype: int64"
      ]
     },
     "execution_count": 148,
     "metadata": {},
     "output_type": "execute_result"
    }
   ],
   "source": [
    "df['Department'].value_counts()"
   ]
  },
  {
   "cell_type": "code",
   "execution_count": 149,
   "id": "af3dbeec",
   "metadata": {},
   "outputs": [
    {
     "data": {
      "text/plain": [
       "Attrition  Department            \n",
       "No         Research & Development    828\n",
       "           Sales                     354\n",
       "           Human Resources            51\n",
       "Yes        Research & Development    133\n",
       "           Sales                      92\n",
       "           Human Resources            12\n",
       "Name: Department, dtype: int64"
      ]
     },
     "execution_count": 149,
     "metadata": {},
     "output_type": "execute_result"
    }
   ],
   "source": [
    "df.groupby('Attrition')['Department'].value_counts()"
   ]
  },
  {
   "cell_type": "markdown",
   "id": "ab6f90d9",
   "metadata": {},
   "source": [
    "**1) In Research & Development  out of 961 around 133 are Attrited percentage is 14%\n",
    "2)Sales out of 446 around 92 are Attrited percentage is 21% which is heighest amoungest all.\n",
    "3)Human Resources 63 around 12 are Attrited percentage is 19%**\n"
   ]
  },
  {
   "cell_type": "code",
   "execution_count": 45,
   "id": "31e1b22d",
   "metadata": {
    "scrolled": true
   },
   "outputs": [
    {
     "data": {
      "text/plain": [
       "<seaborn.axisgrid.FacetGrid at 0x2256c9e4dc0>"
      ]
     },
     "execution_count": 45,
     "metadata": {},
     "output_type": "execute_result"
    },
    {
     "data": {
      "text/plain": [
       "<Figure size 2520x1080 with 0 Axes>"
      ]
     },
     "metadata": {},
     "output_type": "display_data"
    },
    {
     "data": {
      "image/png": "[encoded data removed]",
      "text/plain": [
       "<Figure size 412x360 with 1 Axes>"
      ]
     },
     "metadata": {
      "needs_background": "light"
     },
     "output_type": "display_data"
    }
   ],
   "source": [
    "plt.figure(figsize=(35,15))\n",
    "sns.catplot(x='DistanceFromHome',hue='Attrition',kind='count',data=df)"
   ]
  },
  {
   "cell_type": "markdown",
   "id": "ad8e45f1",
   "metadata": {},
   "source": [
    "**'DistanceFromHome' and 'Attrition' has +ve correlation employees living nearby has less attrition rate as compaired to living far.**"
   ]
  },
  {
   "cell_type": "code",
   "execution_count": 41,
   "id": "5b3cf20f",
   "metadata": {
    "scrolled": true
   },
   "outputs": [
    {
     "data": {
      "text/plain": [
       "<seaborn.axisgrid.FacetGrid at 0x2256b9fbdf0>"
      ]
     },
     "execution_count": 41,
     "metadata": {},
     "output_type": "execute_result"
    },
    {
     "data": {
      "image/png": "[encoded data removed]",
      "text/plain": [
       "<Figure size 412x360 with 1 Axes>"
      ]
     },
     "metadata": {
      "needs_background": "light"
     },
     "output_type": "display_data"
    }
   ],
   "source": [
    "#sns.catplot(x='Department',hue='Attrition' ,kind='count',data=df)\n",
    "df['MaritalStatus'].unique()\n",
    "sns.catplot(x='MaritalStatus',hue='Attrition',kind='count',data=df)"
   ]
  },
  {
   "cell_type": "markdown",
   "id": "a8f64e92",
   "metadata": {},
   "source": [
    "**Attrition percentage of Single is very high as compaired to Married and Divorced.** "
   ]
  },
  {
   "cell_type": "code",
   "execution_count": 61,
   "id": "64284ca3",
   "metadata": {},
   "outputs": [
    {
     "data": {
      "text/plain": [
       "<seaborn.axisgrid.FacetGrid at 0x2256de88ac0>"
      ]
     },
     "execution_count": 61,
     "metadata": {},
     "output_type": "execute_result"
    },
    {
     "data": {
      "image/png": "[encoded data removed]",
      "text/plain": [
       "<Figure size 412x360 with 1 Axes>"
      ]
     },
     "metadata": {
      "needs_background": "light"
     },
     "output_type": "display_data"
    }
   ],
   "source": [
    "\n",
    "sns.catplot(x='Department',hue='Attrition',kind='count',data=df)"
   ]
  },
  {
   "cell_type": "code",
   "execution_count": 66,
   "id": "915e1236",
   "metadata": {},
   "outputs": [
    {
     "name": "stdout",
     "output_type": "stream",
     "text": [
      "['Sales Executive' 'Research Scientist' 'Laboratory Technician'\n",
      " 'Manufacturing Director' 'Healthcare Representative' 'Manager'\n",
      " 'Sales Representative' 'Research Director' 'Human Resources']\n"
     ]
    },
    {
     "data": {
      "text/plain": [
       "<seaborn.axisgrid.FacetGrid at 0x2256f324b20>"
      ]
     },
     "execution_count": 66,
     "metadata": {},
     "output_type": "execute_result"
    },
    {
     "data": {
      "image/png": "[encoded data removed]",
      "text/plain": [
       "<Figure size 1492x360 with 1 Axes>"
      ]
     },
     "metadata": {
      "needs_background": "light"
     },
     "output_type": "display_data"
    }
   ],
   "source": [
    "print(df['JobRole'].unique())\n",
    "sns.catplot(x='JobRole',hue='Attrition',kind='count',data=df,height=5, aspect=4)\n"
   ]
  },
  {
   "cell_type": "markdown",
   "id": "fdea492a",
   "metadata": {},
   "source": [
    "**'Sales Representative' has highest rate of Attrition then'Laboratory Technician','Sales Executive' 'Research Scientist','Human Resources'comes.\n",
    "Very less rate is of 'Research Director' then 'Manufacturing Director' 'Healthcare Representative' 'Manager' comes .Its very important feature.**"
   ]
  },
  {
   "cell_type": "code",
   "execution_count": 69,
   "id": "22c8e442",
   "metadata": {},
   "outputs": [
    {
     "name": "stdout",
     "output_type": "stream",
     "text": [
      "[8 1 6 9 0 4 5 2 7 3]\n"
     ]
    },
    {
     "data": {
      "text/plain": [
       "<seaborn.axisgrid.FacetGrid at 0x2256bfaea90>"
      ]
     },
     "execution_count": 69,
     "metadata": {},
     "output_type": "execute_result"
    },
    {
     "data": {
      "image/png": "[encoded data removed]",
      "text/plain": [
       "<Figure size 772x360 with 1 Axes>"
      ]
     },
     "metadata": {
      "needs_background": "light"
     },
     "output_type": "display_data"
    }
   ],
   "source": [
    "# \n",
    "print(df['NumCompaniesWorked'].unique())\n",
    "sns.catplot(x='NumCompaniesWorked',hue='Attrition',kind='count',data=df,height=5, aspect=2)"
   ]
  },
  {
   "cell_type": "markdown",
   "id": "b282f863",
   "metadata": {},
   "source": [
    "**Attrition rate is increasing with increase in NumCompaniesWorked**"
   ]
  },
  {
   "cell_type": "code",
   "execution_count": 92,
   "id": "7600cda8",
   "metadata": {},
   "outputs": [
    {
     "name": "stdout",
     "output_type": "stream",
     "text": [
      "[ 8 10  7  6 12  1 17  5  3 31 13  0 26 24 22  9 19  2 23 14 15  4 29 28\n",
      " 21 25 20 11 16 37 38 30 40 18 36 34 32 33 35 27]\n"
     ]
    },
    {
     "data": {
      "text/plain": [
       "<seaborn.axisgrid.FacetGrid at 0x225717d9a60>"
      ]
     },
     "execution_count": 92,
     "metadata": {},
     "output_type": "execute_result"
    },
    {
     "data": {
      "image/png": "[encoded data removed]",
      "text/plain": [
       "<Figure size 1488.62x576 with 1 Axes>"
      ]
     },
     "metadata": {
      "needs_background": "light"
     },
     "output_type": "display_data"
    }
   ],
   "source": [
    "print(df['TotalWorkingYears'].unique())\n",
    "sns.catplot(x='TotalWorkingYears',hue='Attrition',kind='count',data=df,height=8, aspect=2.5)"
   ]
  },
  {
   "cell_type": "markdown",
   "id": "e146432d",
   "metadata": {},
   "source": [
    "**Attrition rate is heighest for 1 yr work exp**"
   ]
  },
  {
   "cell_type": "code",
   "execution_count": 94,
   "id": "1742ad25",
   "metadata": {},
   "outputs": [
    {
     "name": "stdout",
     "output_type": "stream",
     "text": [
      "[2 1 3 4 5]\n"
     ]
    },
    {
     "data": {
      "text/plain": [
       "<seaborn.axisgrid.FacetGrid at 0x225716a0cd0>"
      ]
     },
     "execution_count": 94,
     "metadata": {},
     "output_type": "execute_result"
    },
    {
     "data": {
      "image/png": "[encoded data removed]",
      "text/plain": [
       "<Figure size 768.625x360 with 1 Axes>"
      ]
     },
     "metadata": {
      "needs_background": "light"
     },
     "output_type": "display_data"
    }
   ],
   "source": [
    "print(df['JobLevel'].unique())\n",
    "sns.catplot(x='JobLevel',hue='Attrition',kind='count',data=df,height=5, aspect=2)"
   ]
  },
  {
   "cell_type": "markdown",
   "id": "a51e1958",
   "metadata": {},
   "source": [
    "**Attrition rate -vely correlated with JobLevel, it goes on decreasing as level increases**"
   ]
  },
  {
   "cell_type": "code",
   "execution_count": 95,
   "id": "af4864eb",
   "metadata": {},
   "outputs": [
    {
     "name": "stdout",
     "output_type": "stream",
     "text": [
      "[ 4  7  0  2  5  9  8  3  6 13  1 15 14 16 11 10 12 18 17]\n"
     ]
    },
    {
     "data": {
      "text/plain": [
       "<seaborn.axisgrid.FacetGrid at 0x22571817340>"
      ]
     },
     "execution_count": 95,
     "metadata": {},
     "output_type": "execute_result"
    },
    {
     "data": {
      "image/png": "[encoded data removed]",
      "text/plain": [
       "<Figure size 768.625x360 with 1 Axes>"
      ]
     },
     "metadata": {
      "needs_background": "light"
     },
     "output_type": "display_data"
    }
   ],
   "source": [
    "print(df['YearsInCurrentRole'].unique())\n",
    "sns.catplot(x='YearsInCurrentRole',hue='Attrition',kind='count',data=df,height=5, aspect=2)"
   ]
  },
  {
   "cell_type": "markdown",
   "id": "22c2a0dd",
   "metadata": {},
   "source": [
    "**Attrition rate -vely correlated with YearsInCurrentRole, it goes on decreasing as level increases for(0-4) it is high**"
   ]
  },
  {
   "cell_type": "code",
   "execution_count": 99,
   "id": "efdc02b4",
   "metadata": {},
   "outputs": [
    {
     "name": "stdout",
     "output_type": "stream",
     "text": [
      "[5993 5130 2090 ... 9991 5390 4404]\n"
     ]
    },
    {
     "data": {
      "text/plain": [
       "<AxesSubplot:xlabel='MonthlyIncome', ylabel='Attrition'>"
      ]
     },
     "execution_count": 99,
     "metadata": {},
     "output_type": "execute_result"
    },
    {
     "data": {
      "image/png": "[encoded data removed]",
      "text/plain": [
       "<Figure size 432x288 with 1 Axes>"
      ]
     },
     "metadata": {
      "needs_background": "light"
     },
     "output_type": "display_data"
    }
   ],
   "source": [
    "## 'MonthlyIncome' Vs 'Attrition\n",
    "sns.scatterplot(x='MonthlyIncome',y='Attrition',data=df)"
   ]
  },
  {
   "cell_type": "markdown",
   "id": "28e8eb44",
   "metadata": {},
   "source": [
    "**Attrition rate -vely correlated with MonthlyIncome, for sal between (1000-11000) attrition rate is high**"
   ]
  },
  {
   "cell_type": "code",
   "execution_count": null,
   "id": "4943548a",
   "metadata": {},
   "outputs": [],
   "source": [
    "JobSatisfaction            -0.103481\n",
    "JobInvolvement             -0.130016\n",
    "YearsAtCompany             -0.134392\n",
    "StockOptionLevel           -0.137145\n",
    "YearsWithCurrManager       -0.156199\n",
    "Age                        -0.159205\n",
    "MonthlyIncome              -0.159840\n",
    "YearsInCurrentRole         -0.160545\n",
    "JobLevel                   -0.169105\n",
    "TotalWorkingYears"
   ]
  },
  {
   "cell_type": "code",
   "execution_count": 102,
   "id": "c7f5599e",
   "metadata": {},
   "outputs": [
    {
     "name": "stdout",
     "output_type": "stream",
     "text": [
      "[41 49 37 33 27 32 59 30 38 36 35 29 31 34 28 22 53 24 21 42 44 46 39 43\n",
      " 50 26 48 55 45 56 23 51 40 54 58 20 25 19 57 52 47 18 60]\n"
     ]
    },
    {
     "data": {
      "text/plain": [
       "<seaborn.axisgrid.FacetGrid at 0x22572485be0>"
      ]
     },
     "execution_count": 102,
     "metadata": {},
     "output_type": "execute_result"
    },
    {
     "data": {
      "image/png": "[encoded data removed]",
      "text/plain": [
       "<Figure size 768.625x360 with 1 Axes>"
      ]
     },
     "metadata": {
      "needs_background": "light"
     },
     "output_type": "display_data"
    }
   ],
   "source": [
    "print(df['Age'].unique())\n",
    "sns.catplot(x='Age',hue='Attrition',kind='count',data=df,height=5, aspect=2)\n"
   ]
  },
  {
   "cell_type": "markdown",
   "id": "54b9c044",
   "metadata": {},
   "source": [
    "**Attrition rate -vely correlated with Age, for Age between (18-21) attrition rate is highest then for (23-41)its medium and then its low**"
   ]
  },
  {
   "cell_type": "code",
   "execution_count": 103,
   "id": "fd7698ae",
   "metadata": {},
   "outputs": [
    {
     "name": "stdout",
     "output_type": "stream",
     "text": [
      "[4 2 3 1]\n"
     ]
    },
    {
     "data": {
      "text/plain": [
       "<seaborn.axisgrid.FacetGrid at 0x225767b7a00>"
      ]
     },
     "execution_count": 103,
     "metadata": {},
     "output_type": "execute_result"
    },
    {
     "data": {
      "image/png": "[encoded data removed]",
      "text/plain": [
       "<Figure size 768.625x360 with 1 Axes>"
      ]
     },
     "metadata": {
      "needs_background": "light"
     },
     "output_type": "display_data"
    }
   ],
   "source": [
    "print(df['JobSatisfaction'].unique())\n",
    "sns.catplot(x='JobSatisfaction',hue='Attrition',kind='count',data=df,height=5, aspect=2)"
   ]
  },
  {
   "cell_type": "markdown",
   "id": "a56cdafb",
   "metadata": {},
   "source": [
    "**Attrition rate -vely correlated with JobSatisfaction, it goes on decreasing as level increases for 1 it is highest**"
   ]
  },
  {
   "cell_type": "code",
   "execution_count": 105,
   "id": "5450ed34",
   "metadata": {},
   "outputs": [
    {
     "name": "stdout",
     "output_type": "stream",
     "text": [
      "[0 1 3 2]\n"
     ]
    },
    {
     "data": {
      "text/plain": [
       "<seaborn.axisgrid.FacetGrid at 0x22572d48d60>"
      ]
     },
     "execution_count": 105,
     "metadata": {},
     "output_type": "execute_result"
    },
    {
     "data": {
      "image/png": "[encoded data removed]",
      "text/plain": [
       "<Figure size 768.625x360 with 1 Axes>"
      ]
     },
     "metadata": {
      "needs_background": "light"
     },
     "output_type": "display_data"
    }
   ],
   "source": [
    "print(df['StockOptionLevel'].unique())\n",
    "sns.catplot(x='StockOptionLevel',hue='Attrition',kind='count',data=df,height=5, aspect=2)"
   ]
  },
  {
   "cell_type": "markdown",
   "id": "5d03b53b",
   "metadata": {},
   "source": [
    "**Attrition rate -vely correlated with StockOptionLevel, it goes on decreasing as StockOptionLevel increases**"
   ]
  },
  {
   "cell_type": "code",
   "execution_count": 107,
   "id": "21527b7c",
   "metadata": {},
   "outputs": [
    {
     "name": "stdout",
     "output_type": "stream",
     "text": [
      "[ 6 10  0  8  2  7  1  9  5  4 25  3 12 14 22 15 27 21 17 11 13 37 16 20\n",
      " 40 24 33 19 36 18 29 31 32 34 26 30 23]\n"
     ]
    },
    {
     "data": {
      "text/plain": [
       "<seaborn.axisgrid.FacetGrid at 0x22576d75940>"
      ]
     },
     "execution_count": 107,
     "metadata": {},
     "output_type": "execute_result"
    },
    {
     "data": {
      "image/png": "[encoded data removed]",
      "text/plain": [
       "<Figure size 768.625x360 with 1 Axes>"
      ]
     },
     "metadata": {
      "needs_background": "light"
     },
     "output_type": "display_data"
    }
   ],
   "source": [
    "print(df['YearsAtCompany'].unique())\n",
    "sns.catplot(x='YearsAtCompany',hue='Attrition',kind='count',data=df,height=5, aspect=2)"
   ]
  },
  {
   "cell_type": "markdown",
   "id": "dab9d5d6",
   "metadata": {},
   "source": [
    "**Attrition rate -vely correlated with YearsAtCompany, it is heighest for(0-5)yrs.**"
   ]
  },
  {
   "cell_type": "code",
   "execution_count": 109,
   "id": "dac77fd2",
   "metadata": {},
   "outputs": [
    {
     "name": "stdout",
     "output_type": "stream",
     "text": [
      "[3 2 4 1]\n"
     ]
    },
    {
     "data": {
      "text/plain": [
       "<seaborn.axisgrid.FacetGrid at 0x22576db82e0>"
      ]
     },
     "execution_count": 109,
     "metadata": {},
     "output_type": "execute_result"
    },
    {
     "data": {
      "image/png": "[encoded data removed]",
      "text/plain": [
       "<Figure size 768.625x360 with 1 Axes>"
      ]
     },
     "metadata": {
      "needs_background": "light"
     },
     "output_type": "display_data"
    }
   ],
   "source": [
    "print(df['JobInvolvement'].unique())\n",
    "sns.catplot(x='JobInvolvement',hue='Attrition',kind='count',data=df,height=5, aspect=2)"
   ]
  },
  {
   "cell_type": "markdown",
   "id": "41cff253",
   "metadata": {},
   "source": [
    "**Attrition rate -vely correlated with YearsInCurrentRole, it is heighest for level 1 around(33%)**"
   ]
  },
  {
   "cell_type": "code",
   "execution_count": 122,
   "id": "6b558e2b",
   "metadata": {},
   "outputs": [],
   "source": [
    "# converting age into Age Groups 10-20,21-30,..\n",
    "age_group=pd.cut(df['Age'], bins=[10,20,30,40,50,60], labels=np.arange(1,6))"
   ]
  },
  {
   "cell_type": "code",
   "execution_count": 123,
   "id": "585cc80d",
   "metadata": {},
   "outputs": [
    {
     "data": {
      "text/plain": [
       "0       [40, 50)\n",
       "1       [40, 50)\n",
       "2       [30, 40)\n",
       "3       [30, 40)\n",
       "4       [20, 30)\n",
       "          ...   \n",
       "1465    [30, 40)\n",
       "1466    [30, 40)\n",
       "1467    [20, 30)\n",
       "1468    [40, 50)\n",
       "1469    [30, 40)\n",
       "Name: Age, Length: 1470, dtype: category\n",
       "Categories (5, interval[int64]): [[10, 20) < [20, 30) < [30, 40) < [40, 50) < [50, 60)]"
      ]
     },
     "execution_count": 123,
     "metadata": {},
     "output_type": "execute_result"
    }
   ],
   "source": [
    "pd.cut(df.Age, bins=[10,20,30,40,50,60], right=False)\n"
   ]
  },
  {
   "cell_type": "code",
   "execution_count": 124,
   "id": "6c6eca70",
   "metadata": {},
   "outputs": [
    {
     "data": {
      "text/plain": [
       "0    4\n",
       "1    4\n",
       "2    3\n",
       "3    3\n",
       "4    2\n",
       "Name: Age, dtype: category\n",
       "Categories (5, int64): [1 < 2 < 3 < 4 < 5]"
      ]
     },
     "execution_count": 124,
     "metadata": {},
     "output_type": "execute_result"
    }
   ],
   "source": [
    "df['Age']=age_group\n",
    "df['Age'].head()"
   ]
  },
  {
   "cell_type": "code",
   "execution_count": 125,
   "id": "d3f790ff",
   "metadata": {},
   "outputs": [
    {
     "name": "stdout",
     "output_type": "stream",
     "text": [
      "[4, 3, 2, 5, 1]\n",
      "Categories (5, int64): [1 < 2 < 3 < 4 < 5]\n"
     ]
    },
    {
     "data": {
      "text/plain": [
       "<seaborn.axisgrid.FacetGrid at 0x22578405fa0>"
      ]
     },
     "execution_count": 125,
     "metadata": {},
     "output_type": "execute_result"
    },
    {
     "data": {
      "image/png": "[encoded data removed]",
      "text/plain": [
       "<Figure size 772x360 with 1 Axes>"
      ]
     },
     "metadata": {
      "needs_background": "light"
     },
     "output_type": "display_data"
    }
   ],
   "source": [
    "print(df['Age'].unique())\n",
    "sns.catplot(x='Age',hue='Attrition',kind='count',data=df,height=5, aspect=2)"
   ]
  },
  {
   "cell_type": "markdown",
   "id": "abaa00ff",
   "metadata": {},
   "source": [
    "**Attrition rate -vely correlated with Age. Young employees keeps on switching jobs.**"
   ]
  },
  {
   "cell_type": "code",
   "execution_count": 8,
   "id": "1353dca1",
   "metadata": {},
   "outputs": [],
   "source": [
    "# catagorical features encoding using LabelEncoder\n",
    "from sklearn.preprocessing import LabelEncoder\n",
    "le = LabelEncoder()\n",
    "df['Attrition']=le.fit_transform(df['Attrition'])\n",
    "df['BusinessTravel']=le.fit_transform(df['BusinessTravel'])\n",
    "df['Department']=le.fit_transform(df['Department'])\n",
    "df['EducationField']=le.fit_transform(df['EducationField'])\n",
    "df['Gender']=le.fit_transform(df['Gender'])\n",
    "df['JobRole']=le.fit_transform(df['JobRole'])\n",
    "df['MaritalStatus']=le.fit_transform(df['MaritalStatus'])\n",
    "df['OverTime']=le.fit_transform(df['OverTime'])"
   ]
  },
  {
   "cell_type": "code",
   "execution_count": 176,
   "id": "7a1f75a5",
   "metadata": {},
   "outputs": [
    {
     "name": "stdout",
     "output_type": "stream",
     "text": [
      "<class 'pandas.core.frame.DataFrame'>\n",
      "RangeIndex: 1470 entries, 0 to 1469\n",
      "Data columns (total 32 columns):\n",
      " #   Column                    Non-Null Count  Dtype\n",
      "---  ------                    --------------  -----\n",
      " 0   Age                       1470 non-null   int64\n",
      " 1   Attrition                 1470 non-null   int32\n",
      " 2   BusinessTravel            1470 non-null   int32\n",
      " 3   DailyRate                 1470 non-null   int64\n",
      " 4   Department                1470 non-null   int32\n",
      " 5   DistanceFromHome          1470 non-null   int64\n",
      " 6   Education                 1470 non-null   int64\n",
      " 7   EducationField            1470 non-null   int32\n",
      " 8   EmployeeNumber            1470 non-null   int64\n",
      " 9   EnvironmentSatisfaction   1470 non-null   int64\n",
      " 10  Gender                    1470 non-null   int32\n",
      " 11  HourlyRate                1470 non-null   int64\n",
      " 12  JobInvolvement            1470 non-null   int64\n",
      " 13  JobLevel                  1470 non-null   int64\n",
      " 14  JobRole                   1470 non-null   int32\n",
      " 15  JobSatisfaction           1470 non-null   int64\n",
      " 16  MaritalStatus             1470 non-null   int32\n",
      " 17  MonthlyIncome             1470 non-null   int64\n",
      " 18  MonthlyRate               1470 non-null   int64\n",
      " 19  NumCompaniesWorked        1470 non-null   int64\n",
      " 20  OverTime                  1470 non-null   int32\n",
      " 21  PercentSalaryHike         1470 non-null   int64\n",
      " 22  PerformanceRating         1470 non-null   int64\n",
      " 23  RelationshipSatisfaction  1470 non-null   int64\n",
      " 24  StockOptionLevel          1470 non-null   int64\n",
      " 25  TotalWorkingYears         1470 non-null   int64\n",
      " 26  TrainingTimesLastYear     1470 non-null   int64\n",
      " 27  WorkLifeBalance           1470 non-null   int64\n",
      " 28  YearsAtCompany            1470 non-null   int64\n",
      " 29  YearsInCurrentRole        1470 non-null   int64\n",
      " 30  YearsSinceLastPromotion   1470 non-null   int64\n",
      " 31  YearsWithCurrManager      1470 non-null   int64\n",
      "dtypes: int32(8), int64(24)\n",
      "memory usage: 321.7 KB\n"
     ]
    }
   ],
   "source": [
    "# changing dtype from object to int after LAbleEncoding\n",
    "df['Attrition'].astype(int)\n",
    "df['BusinessTravel'].astype(int)\n",
    "df['Department'].astype(int)\n",
    "df['EducationField'].astype(int)\n",
    "df['Gender'].astype(int)\n",
    "df['JobRole'].astype(int)\n",
    "df['MaritalStatus'].astype(int)\n",
    "df['OverTime'].astype(int)\n",
    "df.info()"
   ]
  },
  {
   "cell_type": "code",
   "execution_count": 9,
   "id": "546dc756",
   "metadata": {
    "scrolled": true
   },
   "outputs": [
    {
     "data": {
      "text/html": [
       "<div>\n",
       "<style scoped>\n",
       "    .dataframe tbody tr th:only-of-type {\n",
       "        vertical-align: middle;\n",
       "    }\n",
       "\n",
       "    .dataframe tbody tr th {\n",
       "        vertical-align: top;\n",
       "    }\n",
       "\n",
       "    .dataframe thead th {\n",
       "        text-align: right;\n",
       "    }\n",
       "</style>\n",
       "<table border=\"1\" class=\"dataframe\">\n",
       "  <thead>\n",
       "    <tr style=\"text-align: right;\">\n",
       "      <th></th>\n",
       "      <th>Age</th>\n",
       "      <th>Attrition</th>\n",
       "      <th>BusinessTravel</th>\n",
       "      <th>DailyRate</th>\n",
       "      <th>Department</th>\n",
       "      <th>DistanceFromHome</th>\n",
       "      <th>Education</th>\n",
       "      <th>EducationField</th>\n",
       "      <th>EmployeeNumber</th>\n",
       "      <th>EnvironmentSatisfaction</th>\n",
       "      <th>...</th>\n",
       "      <th>PerformanceRating</th>\n",
       "      <th>RelationshipSatisfaction</th>\n",
       "      <th>StockOptionLevel</th>\n",
       "      <th>TotalWorkingYears</th>\n",
       "      <th>TrainingTimesLastYear</th>\n",
       "      <th>WorkLifeBalance</th>\n",
       "      <th>YearsAtCompany</th>\n",
       "      <th>YearsInCurrentRole</th>\n",
       "      <th>YearsSinceLastPromotion</th>\n",
       "      <th>YearsWithCurrManager</th>\n",
       "    </tr>\n",
       "  </thead>\n",
       "  <tbody>\n",
       "    <tr>\n",
       "      <th>0</th>\n",
       "      <td>41</td>\n",
       "      <td>1</td>\n",
       "      <td>2</td>\n",
       "      <td>1102</td>\n",
       "      <td>2</td>\n",
       "      <td>1</td>\n",
       "      <td>2</td>\n",
       "      <td>1</td>\n",
       "      <td>1</td>\n",
       "      <td>2</td>\n",
       "      <td>...</td>\n",
       "      <td>3</td>\n",
       "      <td>1</td>\n",
       "      <td>0</td>\n",
       "      <td>8</td>\n",
       "      <td>0</td>\n",
       "      <td>1</td>\n",
       "      <td>6</td>\n",
       "      <td>4</td>\n",
       "      <td>0</td>\n",
       "      <td>5</td>\n",
       "    </tr>\n",
       "    <tr>\n",
       "      <th>1</th>\n",
       "      <td>49</td>\n",
       "      <td>0</td>\n",
       "      <td>1</td>\n",
       "      <td>279</td>\n",
       "      <td>1</td>\n",
       "      <td>8</td>\n",
       "      <td>1</td>\n",
       "      <td>1</td>\n",
       "      <td>2</td>\n",
       "      <td>3</td>\n",
       "      <td>...</td>\n",
       "      <td>4</td>\n",
       "      <td>4</td>\n",
       "      <td>1</td>\n",
       "      <td>10</td>\n",
       "      <td>3</td>\n",
       "      <td>3</td>\n",
       "      <td>10</td>\n",
       "      <td>7</td>\n",
       "      <td>1</td>\n",
       "      <td>7</td>\n",
       "    </tr>\n",
       "    <tr>\n",
       "      <th>2</th>\n",
       "      <td>37</td>\n",
       "      <td>1</td>\n",
       "      <td>2</td>\n",
       "      <td>1373</td>\n",
       "      <td>1</td>\n",
       "      <td>2</td>\n",
       "      <td>2</td>\n",
       "      <td>4</td>\n",
       "      <td>4</td>\n",
       "      <td>4</td>\n",
       "      <td>...</td>\n",
       "      <td>3</td>\n",
       "      <td>2</td>\n",
       "      <td>0</td>\n",
       "      <td>7</td>\n",
       "      <td>3</td>\n",
       "      <td>3</td>\n",
       "      <td>0</td>\n",
       "      <td>0</td>\n",
       "      <td>0</td>\n",
       "      <td>0</td>\n",
       "    </tr>\n",
       "    <tr>\n",
       "      <th>3</th>\n",
       "      <td>33</td>\n",
       "      <td>0</td>\n",
       "      <td>1</td>\n",
       "      <td>1392</td>\n",
       "      <td>1</td>\n",
       "      <td>3</td>\n",
       "      <td>4</td>\n",
       "      <td>1</td>\n",
       "      <td>5</td>\n",
       "      <td>4</td>\n",
       "      <td>...</td>\n",
       "      <td>3</td>\n",
       "      <td>3</td>\n",
       "      <td>0</td>\n",
       "      <td>8</td>\n",
       "      <td>3</td>\n",
       "      <td>3</td>\n",
       "      <td>8</td>\n",
       "      <td>7</td>\n",
       "      <td>3</td>\n",
       "      <td>0</td>\n",
       "    </tr>\n",
       "    <tr>\n",
       "      <th>4</th>\n",
       "      <td>27</td>\n",
       "      <td>0</td>\n",
       "      <td>2</td>\n",
       "      <td>591</td>\n",
       "      <td>1</td>\n",
       "      <td>2</td>\n",
       "      <td>1</td>\n",
       "      <td>3</td>\n",
       "      <td>7</td>\n",
       "      <td>1</td>\n",
       "      <td>...</td>\n",
       "      <td>3</td>\n",
       "      <td>4</td>\n",
       "      <td>1</td>\n",
       "      <td>6</td>\n",
       "      <td>3</td>\n",
       "      <td>3</td>\n",
       "      <td>2</td>\n",
       "      <td>2</td>\n",
       "      <td>2</td>\n",
       "      <td>2</td>\n",
       "    </tr>\n",
       "  </tbody>\n",
       "</table>\n",
       "<p>5 rows × 32 columns</p>\n",
       "</div>"
      ],
      "text/plain": [
       "   Age  Attrition  BusinessTravel  DailyRate  Department  DistanceFromHome  \\\n",
       "0   41          1               2       1102           2                 1   \n",
       "1   49          0               1        279           1                 8   \n",
       "2   37          1               2       1373           1                 2   \n",
       "3   33          0               1       1392           1                 3   \n",
       "4   27          0               2        591           1                 2   \n",
       "\n",
       "   Education  EducationField  EmployeeNumber  EnvironmentSatisfaction  ...  \\\n",
       "0          2               1               1                        2  ...   \n",
       "1          1               1               2                        3  ...   \n",
       "2          2               4               4                        4  ...   \n",
       "3          4               1               5                        4  ...   \n",
       "4          1               3               7                        1  ...   \n",
       "\n",
       "   PerformanceRating  RelationshipSatisfaction  StockOptionLevel  \\\n",
       "0                  3                         1                 0   \n",
       "1                  4                         4                 1   \n",
       "2                  3                         2                 0   \n",
       "3                  3                         3                 0   \n",
       "4                  3                         4                 1   \n",
       "\n",
       "   TotalWorkingYears  TrainingTimesLastYear  WorkLifeBalance  YearsAtCompany  \\\n",
       "0                  8                      0                1               6   \n",
       "1                 10                      3                3              10   \n",
       "2                  7                      3                3               0   \n",
       "3                  8                      3                3               8   \n",
       "4                  6                      3                3               2   \n",
       "\n",
       "   YearsInCurrentRole  YearsSinceLastPromotion  YearsWithCurrManager  \n",
       "0                   4                        0                     5  \n",
       "1                   7                        1                     7  \n",
       "2                   0                        0                     0  \n",
       "3                   7                        3                     0  \n",
       "4                   2                        2                     2  \n",
       "\n",
       "[5 rows x 32 columns]"
      ]
     },
     "execution_count": 9,
     "metadata": {},
     "output_type": "execute_result"
    }
   ],
   "source": [
    "df.head()"
   ]
  },
  {
   "cell_type": "code",
   "execution_count": 186,
   "id": "0551c64c",
   "metadata": {
    "scrolled": true
   },
   "outputs": [
    {
     "data": {
      "text/html": [
       "<div>\n",
       "<style scoped>\n",
       "    .dataframe tbody tr th:only-of-type {\n",
       "        vertical-align: middle;\n",
       "    }\n",
       "\n",
       "    .dataframe tbody tr th {\n",
       "        vertical-align: top;\n",
       "    }\n",
       "\n",
       "    .dataframe thead th {\n",
       "        text-align: right;\n",
       "    }\n",
       "</style>\n",
       "<table border=\"1\" class=\"dataframe\">\n",
       "  <thead>\n",
       "    <tr style=\"text-align: right;\">\n",
       "      <th></th>\n",
       "      <th>Age</th>\n",
       "      <th>Attrition</th>\n",
       "      <th>BusinessTravel</th>\n",
       "      <th>DailyRate</th>\n",
       "      <th>Department</th>\n",
       "      <th>DistanceFromHome</th>\n",
       "      <th>Education</th>\n",
       "      <th>EducationField</th>\n",
       "      <th>EmployeeNumber</th>\n",
       "      <th>EnvironmentSatisfaction</th>\n",
       "      <th>...</th>\n",
       "      <th>PerformanceRating</th>\n",
       "      <th>RelationshipSatisfaction</th>\n",
       "      <th>StockOptionLevel</th>\n",
       "      <th>TotalWorkingYears</th>\n",
       "      <th>TrainingTimesLastYear</th>\n",
       "      <th>WorkLifeBalance</th>\n",
       "      <th>YearsAtCompany</th>\n",
       "      <th>YearsInCurrentRole</th>\n",
       "      <th>YearsSinceLastPromotion</th>\n",
       "      <th>YearsWithCurrManager</th>\n",
       "    </tr>\n",
       "  </thead>\n",
       "  <tbody>\n",
       "    <tr>\n",
       "      <th>Age</th>\n",
       "      <td>1.00</td>\n",
       "      <td>-0.16</td>\n",
       "      <td>0.02</td>\n",
       "      <td>0.01</td>\n",
       "      <td>-0.03</td>\n",
       "      <td>-0.00</td>\n",
       "      <td>0.21</td>\n",
       "      <td>-0.04</td>\n",
       "      <td>-0.01</td>\n",
       "      <td>0.01</td>\n",
       "      <td>...</td>\n",
       "      <td>0.00</td>\n",
       "      <td>0.05</td>\n",
       "      <td>0.04</td>\n",
       "      <td>0.68</td>\n",
       "      <td>-0.02</td>\n",
       "      <td>-0.02</td>\n",
       "      <td>0.31</td>\n",
       "      <td>0.21</td>\n",
       "      <td>0.22</td>\n",
       "      <td>0.20</td>\n",
       "    </tr>\n",
       "    <tr>\n",
       "      <th>Attrition</th>\n",
       "      <td>-0.16</td>\n",
       "      <td>1.00</td>\n",
       "      <td>0.00</td>\n",
       "      <td>-0.06</td>\n",
       "      <td>0.06</td>\n",
       "      <td>0.08</td>\n",
       "      <td>-0.03</td>\n",
       "      <td>0.03</td>\n",
       "      <td>-0.01</td>\n",
       "      <td>-0.10</td>\n",
       "      <td>...</td>\n",
       "      <td>0.00</td>\n",
       "      <td>-0.05</td>\n",
       "      <td>-0.14</td>\n",
       "      <td>-0.17</td>\n",
       "      <td>-0.06</td>\n",
       "      <td>-0.06</td>\n",
       "      <td>-0.13</td>\n",
       "      <td>-0.16</td>\n",
       "      <td>-0.03</td>\n",
       "      <td>-0.16</td>\n",
       "    </tr>\n",
       "    <tr>\n",
       "      <th>BusinessTravel</th>\n",
       "      <td>0.02</td>\n",
       "      <td>0.00</td>\n",
       "      <td>1.00</td>\n",
       "      <td>-0.00</td>\n",
       "      <td>-0.01</td>\n",
       "      <td>-0.02</td>\n",
       "      <td>0.00</td>\n",
       "      <td>0.02</td>\n",
       "      <td>-0.02</td>\n",
       "      <td>0.00</td>\n",
       "      <td>...</td>\n",
       "      <td>-0.03</td>\n",
       "      <td>-0.04</td>\n",
       "      <td>-0.02</td>\n",
       "      <td>0.03</td>\n",
       "      <td>0.02</td>\n",
       "      <td>-0.01</td>\n",
       "      <td>-0.01</td>\n",
       "      <td>-0.01</td>\n",
       "      <td>-0.03</td>\n",
       "      <td>-0.02</td>\n",
       "    </tr>\n",
       "    <tr>\n",
       "      <th>DailyRate</th>\n",
       "      <td>0.01</td>\n",
       "      <td>-0.06</td>\n",
       "      <td>-0.00</td>\n",
       "      <td>1.00</td>\n",
       "      <td>0.01</td>\n",
       "      <td>-0.00</td>\n",
       "      <td>-0.02</td>\n",
       "      <td>0.04</td>\n",
       "      <td>-0.05</td>\n",
       "      <td>0.02</td>\n",
       "      <td>...</td>\n",
       "      <td>0.00</td>\n",
       "      <td>0.01</td>\n",
       "      <td>0.04</td>\n",
       "      <td>0.01</td>\n",
       "      <td>0.00</td>\n",
       "      <td>-0.04</td>\n",
       "      <td>-0.03</td>\n",
       "      <td>0.01</td>\n",
       "      <td>-0.03</td>\n",
       "      <td>-0.03</td>\n",
       "    </tr>\n",
       "    <tr>\n",
       "      <th>Department</th>\n",
       "      <td>-0.03</td>\n",
       "      <td>0.06</td>\n",
       "      <td>-0.01</td>\n",
       "      <td>0.01</td>\n",
       "      <td>1.00</td>\n",
       "      <td>0.02</td>\n",
       "      <td>0.01</td>\n",
       "      <td>0.01</td>\n",
       "      <td>-0.01</td>\n",
       "      <td>-0.02</td>\n",
       "      <td>...</td>\n",
       "      <td>-0.02</td>\n",
       "      <td>-0.02</td>\n",
       "      <td>-0.01</td>\n",
       "      <td>-0.02</td>\n",
       "      <td>0.04</td>\n",
       "      <td>0.03</td>\n",
       "      <td>0.02</td>\n",
       "      <td>0.06</td>\n",
       "      <td>0.04</td>\n",
       "      <td>0.03</td>\n",
       "    </tr>\n",
       "    <tr>\n",
       "      <th>DistanceFromHome</th>\n",
       "      <td>-0.00</td>\n",
       "      <td>0.08</td>\n",
       "      <td>-0.02</td>\n",
       "      <td>-0.00</td>\n",
       "      <td>0.02</td>\n",
       "      <td>1.00</td>\n",
       "      <td>0.02</td>\n",
       "      <td>0.00</td>\n",
       "      <td>0.03</td>\n",
       "      <td>-0.02</td>\n",
       "      <td>...</td>\n",
       "      <td>0.03</td>\n",
       "      <td>0.01</td>\n",
       "      <td>0.04</td>\n",
       "      <td>0.00</td>\n",
       "      <td>-0.04</td>\n",
       "      <td>-0.03</td>\n",
       "      <td>0.01</td>\n",
       "      <td>0.02</td>\n",
       "      <td>0.01</td>\n",
       "      <td>0.01</td>\n",
       "    </tr>\n",
       "    <tr>\n",
       "      <th>Education</th>\n",
       "      <td>0.21</td>\n",
       "      <td>-0.03</td>\n",
       "      <td>0.00</td>\n",
       "      <td>-0.02</td>\n",
       "      <td>0.01</td>\n",
       "      <td>0.02</td>\n",
       "      <td>1.00</td>\n",
       "      <td>-0.04</td>\n",
       "      <td>0.04</td>\n",
       "      <td>-0.03</td>\n",
       "      <td>...</td>\n",
       "      <td>-0.02</td>\n",
       "      <td>-0.01</td>\n",
       "      <td>0.02</td>\n",
       "      <td>0.15</td>\n",
       "      <td>-0.03</td>\n",
       "      <td>0.01</td>\n",
       "      <td>0.07</td>\n",
       "      <td>0.06</td>\n",
       "      <td>0.05</td>\n",
       "      <td>0.07</td>\n",
       "    </tr>\n",
       "    <tr>\n",
       "      <th>EducationField</th>\n",
       "      <td>-0.04</td>\n",
       "      <td>0.03</td>\n",
       "      <td>0.02</td>\n",
       "      <td>0.04</td>\n",
       "      <td>0.01</td>\n",
       "      <td>0.00</td>\n",
       "      <td>-0.04</td>\n",
       "      <td>1.00</td>\n",
       "      <td>-0.00</td>\n",
       "      <td>0.04</td>\n",
       "      <td>...</td>\n",
       "      <td>-0.01</td>\n",
       "      <td>-0.00</td>\n",
       "      <td>-0.02</td>\n",
       "      <td>-0.03</td>\n",
       "      <td>0.05</td>\n",
       "      <td>0.04</td>\n",
       "      <td>-0.02</td>\n",
       "      <td>-0.01</td>\n",
       "      <td>0.00</td>\n",
       "      <td>-0.00</td>\n",
       "    </tr>\n",
       "    <tr>\n",
       "      <th>EmployeeNumber</th>\n",
       "      <td>-0.01</td>\n",
       "      <td>-0.01</td>\n",
       "      <td>-0.02</td>\n",
       "      <td>-0.05</td>\n",
       "      <td>-0.01</td>\n",
       "      <td>0.03</td>\n",
       "      <td>0.04</td>\n",
       "      <td>-0.00</td>\n",
       "      <td>1.00</td>\n",
       "      <td>0.02</td>\n",
       "      <td>...</td>\n",
       "      <td>-0.02</td>\n",
       "      <td>-0.07</td>\n",
       "      <td>0.06</td>\n",
       "      <td>-0.01</td>\n",
       "      <td>0.02</td>\n",
       "      <td>0.01</td>\n",
       "      <td>-0.01</td>\n",
       "      <td>-0.01</td>\n",
       "      <td>-0.01</td>\n",
       "      <td>-0.01</td>\n",
       "    </tr>\n",
       "    <tr>\n",
       "      <th>EnvironmentSatisfaction</th>\n",
       "      <td>0.01</td>\n",
       "      <td>-0.10</td>\n",
       "      <td>0.00</td>\n",
       "      <td>0.02</td>\n",
       "      <td>-0.02</td>\n",
       "      <td>-0.02</td>\n",
       "      <td>-0.03</td>\n",
       "      <td>0.04</td>\n",
       "      <td>0.02</td>\n",
       "      <td>1.00</td>\n",
       "      <td>...</td>\n",
       "      <td>-0.03</td>\n",
       "      <td>0.01</td>\n",
       "      <td>0.00</td>\n",
       "      <td>-0.00</td>\n",
       "      <td>-0.02</td>\n",
       "      <td>0.03</td>\n",
       "      <td>0.00</td>\n",
       "      <td>0.02</td>\n",
       "      <td>0.02</td>\n",
       "      <td>-0.00</td>\n",
       "    </tr>\n",
       "    <tr>\n",
       "      <th>Gender</th>\n",
       "      <td>-0.04</td>\n",
       "      <td>0.03</td>\n",
       "      <td>-0.03</td>\n",
       "      <td>-0.01</td>\n",
       "      <td>-0.04</td>\n",
       "      <td>-0.00</td>\n",
       "      <td>-0.02</td>\n",
       "      <td>-0.00</td>\n",
       "      <td>0.02</td>\n",
       "      <td>0.00</td>\n",
       "      <td>...</td>\n",
       "      <td>-0.01</td>\n",
       "      <td>0.02</td>\n",
       "      <td>0.01</td>\n",
       "      <td>-0.05</td>\n",
       "      <td>-0.04</td>\n",
       "      <td>-0.00</td>\n",
       "      <td>-0.03</td>\n",
       "      <td>-0.04</td>\n",
       "      <td>-0.03</td>\n",
       "      <td>-0.03</td>\n",
       "    </tr>\n",
       "    <tr>\n",
       "      <th>HourlyRate</th>\n",
       "      <td>0.02</td>\n",
       "      <td>-0.01</td>\n",
       "      <td>0.03</td>\n",
       "      <td>0.02</td>\n",
       "      <td>-0.00</td>\n",
       "      <td>0.03</td>\n",
       "      <td>0.02</td>\n",
       "      <td>-0.02</td>\n",
       "      <td>0.04</td>\n",
       "      <td>-0.05</td>\n",
       "      <td>...</td>\n",
       "      <td>-0.00</td>\n",
       "      <td>0.00</td>\n",
       "      <td>0.05</td>\n",
       "      <td>-0.00</td>\n",
       "      <td>-0.01</td>\n",
       "      <td>-0.00</td>\n",
       "      <td>-0.02</td>\n",
       "      <td>-0.02</td>\n",
       "      <td>-0.03</td>\n",
       "      <td>-0.02</td>\n",
       "    </tr>\n",
       "    <tr>\n",
       "      <th>JobInvolvement</th>\n",
       "      <td>0.03</td>\n",
       "      <td>-0.13</td>\n",
       "      <td>0.04</td>\n",
       "      <td>0.05</td>\n",
       "      <td>-0.02</td>\n",
       "      <td>0.01</td>\n",
       "      <td>0.04</td>\n",
       "      <td>-0.00</td>\n",
       "      <td>-0.01</td>\n",
       "      <td>-0.01</td>\n",
       "      <td>...</td>\n",
       "      <td>-0.03</td>\n",
       "      <td>0.03</td>\n",
       "      <td>0.02</td>\n",
       "      <td>-0.01</td>\n",
       "      <td>-0.02</td>\n",
       "      <td>-0.01</td>\n",
       "      <td>-0.02</td>\n",
       "      <td>0.01</td>\n",
       "      <td>-0.02</td>\n",
       "      <td>0.03</td>\n",
       "    </tr>\n",
       "    <tr>\n",
       "      <th>JobLevel</th>\n",
       "      <td>0.51</td>\n",
       "      <td>-0.17</td>\n",
       "      <td>0.02</td>\n",
       "      <td>0.00</td>\n",
       "      <td>0.10</td>\n",
       "      <td>0.01</td>\n",
       "      <td>0.10</td>\n",
       "      <td>-0.04</td>\n",
       "      <td>-0.02</td>\n",
       "      <td>0.00</td>\n",
       "      <td>...</td>\n",
       "      <td>-0.02</td>\n",
       "      <td>0.02</td>\n",
       "      <td>0.01</td>\n",
       "      <td>0.78</td>\n",
       "      <td>-0.02</td>\n",
       "      <td>0.04</td>\n",
       "      <td>0.53</td>\n",
       "      <td>0.39</td>\n",
       "      <td>0.35</td>\n",
       "      <td>0.38</td>\n",
       "    </tr>\n",
       "    <tr>\n",
       "      <th>JobRole</th>\n",
       "      <td>-0.12</td>\n",
       "      <td>0.07</td>\n",
       "      <td>0.00</td>\n",
       "      <td>-0.01</td>\n",
       "      <td>0.66</td>\n",
       "      <td>-0.00</td>\n",
       "      <td>0.00</td>\n",
       "      <td>0.02</td>\n",
       "      <td>-0.01</td>\n",
       "      <td>-0.02</td>\n",
       "      <td>...</td>\n",
       "      <td>-0.02</td>\n",
       "      <td>-0.02</td>\n",
       "      <td>-0.02</td>\n",
       "      <td>-0.15</td>\n",
       "      <td>0.00</td>\n",
       "      <td>0.03</td>\n",
       "      <td>-0.08</td>\n",
       "      <td>-0.03</td>\n",
       "      <td>-0.05</td>\n",
       "      <td>-0.04</td>\n",
       "    </tr>\n",
       "    <tr>\n",
       "      <th>JobSatisfaction</th>\n",
       "      <td>-0.00</td>\n",
       "      <td>-0.10</td>\n",
       "      <td>-0.03</td>\n",
       "      <td>0.03</td>\n",
       "      <td>0.02</td>\n",
       "      <td>-0.00</td>\n",
       "      <td>-0.01</td>\n",
       "      <td>-0.03</td>\n",
       "      <td>-0.05</td>\n",
       "      <td>-0.01</td>\n",
       "      <td>...</td>\n",
       "      <td>0.00</td>\n",
       "      <td>-0.01</td>\n",
       "      <td>0.01</td>\n",
       "      <td>-0.02</td>\n",
       "      <td>-0.01</td>\n",
       "      <td>-0.02</td>\n",
       "      <td>-0.00</td>\n",
       "      <td>-0.00</td>\n",
       "      <td>-0.02</td>\n",
       "      <td>-0.03</td>\n",
       "    </tr>\n",
       "    <tr>\n",
       "      <th>MaritalStatus</th>\n",
       "      <td>-0.10</td>\n",
       "      <td>0.16</td>\n",
       "      <td>0.02</td>\n",
       "      <td>-0.07</td>\n",
       "      <td>0.06</td>\n",
       "      <td>-0.01</td>\n",
       "      <td>0.00</td>\n",
       "      <td>0.01</td>\n",
       "      <td>-0.01</td>\n",
       "      <td>-0.00</td>\n",
       "      <td>...</td>\n",
       "      <td>0.01</td>\n",
       "      <td>0.02</td>\n",
       "      <td>-0.66</td>\n",
       "      <td>-0.08</td>\n",
       "      <td>0.01</td>\n",
       "      <td>0.01</td>\n",
       "      <td>-0.06</td>\n",
       "      <td>-0.07</td>\n",
       "      <td>-0.03</td>\n",
       "      <td>-0.04</td>\n",
       "    </tr>\n",
       "    <tr>\n",
       "      <th>MonthlyIncome</th>\n",
       "      <td>0.50</td>\n",
       "      <td>-0.16</td>\n",
       "      <td>0.03</td>\n",
       "      <td>0.01</td>\n",
       "      <td>0.05</td>\n",
       "      <td>-0.02</td>\n",
       "      <td>0.09</td>\n",
       "      <td>-0.04</td>\n",
       "      <td>-0.01</td>\n",
       "      <td>-0.01</td>\n",
       "      <td>...</td>\n",
       "      <td>-0.02</td>\n",
       "      <td>0.03</td>\n",
       "      <td>0.01</td>\n",
       "      <td>0.77</td>\n",
       "      <td>-0.02</td>\n",
       "      <td>0.03</td>\n",
       "      <td>0.51</td>\n",
       "      <td>0.36</td>\n",
       "      <td>0.34</td>\n",
       "      <td>0.34</td>\n",
       "    </tr>\n",
       "    <tr>\n",
       "      <th>MonthlyRate</th>\n",
       "      <td>0.03</td>\n",
       "      <td>0.02</td>\n",
       "      <td>-0.01</td>\n",
       "      <td>-0.03</td>\n",
       "      <td>0.02</td>\n",
       "      <td>0.03</td>\n",
       "      <td>-0.03</td>\n",
       "      <td>-0.03</td>\n",
       "      <td>0.01</td>\n",
       "      <td>0.04</td>\n",
       "      <td>...</td>\n",
       "      <td>-0.01</td>\n",
       "      <td>-0.00</td>\n",
       "      <td>-0.03</td>\n",
       "      <td>0.03</td>\n",
       "      <td>0.00</td>\n",
       "      <td>0.01</td>\n",
       "      <td>-0.02</td>\n",
       "      <td>-0.01</td>\n",
       "      <td>0.00</td>\n",
       "      <td>-0.04</td>\n",
       "    </tr>\n",
       "    <tr>\n",
       "      <th>NumCompaniesWorked</th>\n",
       "      <td>0.30</td>\n",
       "      <td>0.04</td>\n",
       "      <td>0.02</td>\n",
       "      <td>0.04</td>\n",
       "      <td>-0.04</td>\n",
       "      <td>-0.03</td>\n",
       "      <td>0.13</td>\n",
       "      <td>-0.01</td>\n",
       "      <td>-0.00</td>\n",
       "      <td>0.01</td>\n",
       "      <td>...</td>\n",
       "      <td>-0.01</td>\n",
       "      <td>0.05</td>\n",
       "      <td>0.03</td>\n",
       "      <td>0.24</td>\n",
       "      <td>-0.07</td>\n",
       "      <td>-0.01</td>\n",
       "      <td>-0.12</td>\n",
       "      <td>-0.09</td>\n",
       "      <td>-0.04</td>\n",
       "      <td>-0.11</td>\n",
       "    </tr>\n",
       "    <tr>\n",
       "      <th>OverTime</th>\n",
       "      <td>0.03</td>\n",
       "      <td>0.25</td>\n",
       "      <td>0.02</td>\n",
       "      <td>0.01</td>\n",
       "      <td>0.01</td>\n",
       "      <td>0.03</td>\n",
       "      <td>-0.02</td>\n",
       "      <td>0.00</td>\n",
       "      <td>-0.02</td>\n",
       "      <td>0.07</td>\n",
       "      <td>...</td>\n",
       "      <td>0.00</td>\n",
       "      <td>0.05</td>\n",
       "      <td>-0.00</td>\n",
       "      <td>0.01</td>\n",
       "      <td>-0.08</td>\n",
       "      <td>-0.03</td>\n",
       "      <td>-0.01</td>\n",
       "      <td>-0.03</td>\n",
       "      <td>-0.01</td>\n",
       "      <td>-0.04</td>\n",
       "    </tr>\n",
       "    <tr>\n",
       "      <th>PercentSalaryHike</th>\n",
       "      <td>0.00</td>\n",
       "      <td>-0.01</td>\n",
       "      <td>-0.03</td>\n",
       "      <td>0.02</td>\n",
       "      <td>-0.01</td>\n",
       "      <td>0.04</td>\n",
       "      <td>-0.01</td>\n",
       "      <td>-0.01</td>\n",
       "      <td>-0.01</td>\n",
       "      <td>-0.03</td>\n",
       "      <td>...</td>\n",
       "      <td>0.77</td>\n",
       "      <td>-0.04</td>\n",
       "      <td>0.01</td>\n",
       "      <td>-0.02</td>\n",
       "      <td>-0.01</td>\n",
       "      <td>-0.00</td>\n",
       "      <td>-0.04</td>\n",
       "      <td>-0.00</td>\n",
       "      <td>-0.02</td>\n",
       "      <td>-0.01</td>\n",
       "    </tr>\n",
       "    <tr>\n",
       "      <th>PerformanceRating</th>\n",
       "      <td>0.00</td>\n",
       "      <td>0.00</td>\n",
       "      <td>-0.03</td>\n",
       "      <td>0.00</td>\n",
       "      <td>-0.02</td>\n",
       "      <td>0.03</td>\n",
       "      <td>-0.02</td>\n",
       "      <td>-0.01</td>\n",
       "      <td>-0.02</td>\n",
       "      <td>-0.03</td>\n",
       "      <td>...</td>\n",
       "      <td>1.00</td>\n",
       "      <td>-0.03</td>\n",
       "      <td>0.00</td>\n",
       "      <td>0.01</td>\n",
       "      <td>-0.02</td>\n",
       "      <td>0.00</td>\n",
       "      <td>0.00</td>\n",
       "      <td>0.03</td>\n",
       "      <td>0.02</td>\n",
       "      <td>0.02</td>\n",
       "    </tr>\n",
       "    <tr>\n",
       "      <th>RelationshipSatisfaction</th>\n",
       "      <td>0.05</td>\n",
       "      <td>-0.05</td>\n",
       "      <td>-0.04</td>\n",
       "      <td>0.01</td>\n",
       "      <td>-0.02</td>\n",
       "      <td>0.01</td>\n",
       "      <td>-0.01</td>\n",
       "      <td>-0.00</td>\n",
       "      <td>-0.07</td>\n",
       "      <td>0.01</td>\n",
       "      <td>...</td>\n",
       "      <td>-0.03</td>\n",
       "      <td>1.00</td>\n",
       "      <td>-0.05</td>\n",
       "      <td>0.02</td>\n",
       "      <td>0.00</td>\n",
       "      <td>0.02</td>\n",
       "      <td>0.02</td>\n",
       "      <td>-0.02</td>\n",
       "      <td>0.03</td>\n",
       "      <td>-0.00</td>\n",
       "    </tr>\n",
       "    <tr>\n",
       "      <th>StockOptionLevel</th>\n",
       "      <td>0.04</td>\n",
       "      <td>-0.14</td>\n",
       "      <td>-0.02</td>\n",
       "      <td>0.04</td>\n",
       "      <td>-0.01</td>\n",
       "      <td>0.04</td>\n",
       "      <td>0.02</td>\n",
       "      <td>-0.02</td>\n",
       "      <td>0.06</td>\n",
       "      <td>0.00</td>\n",
       "      <td>...</td>\n",
       "      <td>0.00</td>\n",
       "      <td>-0.05</td>\n",
       "      <td>1.00</td>\n",
       "      <td>0.01</td>\n",
       "      <td>0.01</td>\n",
       "      <td>0.00</td>\n",
       "      <td>0.02</td>\n",
       "      <td>0.05</td>\n",
       "      <td>0.01</td>\n",
       "      <td>0.02</td>\n",
       "    </tr>\n",
       "    <tr>\n",
       "      <th>TotalWorkingYears</th>\n",
       "      <td>0.68</td>\n",
       "      <td>-0.17</td>\n",
       "      <td>0.03</td>\n",
       "      <td>0.01</td>\n",
       "      <td>-0.02</td>\n",
       "      <td>0.00</td>\n",
       "      <td>0.15</td>\n",
       "      <td>-0.03</td>\n",
       "      <td>-0.01</td>\n",
       "      <td>-0.00</td>\n",
       "      <td>...</td>\n",
       "      <td>0.01</td>\n",
       "      <td>0.02</td>\n",
       "      <td>0.01</td>\n",
       "      <td>1.00</td>\n",
       "      <td>-0.04</td>\n",
       "      <td>0.00</td>\n",
       "      <td>0.63</td>\n",
       "      <td>0.46</td>\n",
       "      <td>0.40</td>\n",
       "      <td>0.46</td>\n",
       "    </tr>\n",
       "    <tr>\n",
       "      <th>TrainingTimesLastYear</th>\n",
       "      <td>-0.02</td>\n",
       "      <td>-0.06</td>\n",
       "      <td>0.02</td>\n",
       "      <td>0.00</td>\n",
       "      <td>0.04</td>\n",
       "      <td>-0.04</td>\n",
       "      <td>-0.03</td>\n",
       "      <td>0.05</td>\n",
       "      <td>0.02</td>\n",
       "      <td>-0.02</td>\n",
       "      <td>...</td>\n",
       "      <td>-0.02</td>\n",
       "      <td>0.00</td>\n",
       "      <td>0.01</td>\n",
       "      <td>-0.04</td>\n",
       "      <td>1.00</td>\n",
       "      <td>0.03</td>\n",
       "      <td>0.00</td>\n",
       "      <td>-0.01</td>\n",
       "      <td>-0.00</td>\n",
       "      <td>-0.00</td>\n",
       "    </tr>\n",
       "    <tr>\n",
       "      <th>WorkLifeBalance</th>\n",
       "      <td>-0.02</td>\n",
       "      <td>-0.06</td>\n",
       "      <td>-0.01</td>\n",
       "      <td>-0.04</td>\n",
       "      <td>0.03</td>\n",
       "      <td>-0.03</td>\n",
       "      <td>0.01</td>\n",
       "      <td>0.04</td>\n",
       "      <td>0.01</td>\n",
       "      <td>0.03</td>\n",
       "      <td>...</td>\n",
       "      <td>0.00</td>\n",
       "      <td>0.02</td>\n",
       "      <td>0.00</td>\n",
       "      <td>0.00</td>\n",
       "      <td>0.03</td>\n",
       "      <td>1.00</td>\n",
       "      <td>0.01</td>\n",
       "      <td>0.05</td>\n",
       "      <td>0.01</td>\n",
       "      <td>0.00</td>\n",
       "    </tr>\n",
       "    <tr>\n",
       "      <th>YearsAtCompany</th>\n",
       "      <td>0.31</td>\n",
       "      <td>-0.13</td>\n",
       "      <td>-0.01</td>\n",
       "      <td>-0.03</td>\n",
       "      <td>0.02</td>\n",
       "      <td>0.01</td>\n",
       "      <td>0.07</td>\n",
       "      <td>-0.02</td>\n",
       "      <td>-0.01</td>\n",
       "      <td>0.00</td>\n",
       "      <td>...</td>\n",
       "      <td>0.00</td>\n",
       "      <td>0.02</td>\n",
       "      <td>0.02</td>\n",
       "      <td>0.63</td>\n",
       "      <td>0.00</td>\n",
       "      <td>0.01</td>\n",
       "      <td>1.00</td>\n",
       "      <td>0.76</td>\n",
       "      <td>0.62</td>\n",
       "      <td>0.77</td>\n",
       "    </tr>\n",
       "    <tr>\n",
       "      <th>YearsInCurrentRole</th>\n",
       "      <td>0.21</td>\n",
       "      <td>-0.16</td>\n",
       "      <td>-0.01</td>\n",
       "      <td>0.01</td>\n",
       "      <td>0.06</td>\n",
       "      <td>0.02</td>\n",
       "      <td>0.06</td>\n",
       "      <td>-0.01</td>\n",
       "      <td>-0.01</td>\n",
       "      <td>0.02</td>\n",
       "      <td>...</td>\n",
       "      <td>0.03</td>\n",
       "      <td>-0.02</td>\n",
       "      <td>0.05</td>\n",
       "      <td>0.46</td>\n",
       "      <td>-0.01</td>\n",
       "      <td>0.05</td>\n",
       "      <td>0.76</td>\n",
       "      <td>1.00</td>\n",
       "      <td>0.55</td>\n",
       "      <td>0.71</td>\n",
       "    </tr>\n",
       "    <tr>\n",
       "      <th>YearsSinceLastPromotion</th>\n",
       "      <td>0.22</td>\n",
       "      <td>-0.03</td>\n",
       "      <td>-0.03</td>\n",
       "      <td>-0.03</td>\n",
       "      <td>0.04</td>\n",
       "      <td>0.01</td>\n",
       "      <td>0.05</td>\n",
       "      <td>0.00</td>\n",
       "      <td>-0.01</td>\n",
       "      <td>0.02</td>\n",
       "      <td>...</td>\n",
       "      <td>0.02</td>\n",
       "      <td>0.03</td>\n",
       "      <td>0.01</td>\n",
       "      <td>0.40</td>\n",
       "      <td>-0.00</td>\n",
       "      <td>0.01</td>\n",
       "      <td>0.62</td>\n",
       "      <td>0.55</td>\n",
       "      <td>1.00</td>\n",
       "      <td>0.51</td>\n",
       "    </tr>\n",
       "    <tr>\n",
       "      <th>YearsWithCurrManager</th>\n",
       "      <td>0.20</td>\n",
       "      <td>-0.16</td>\n",
       "      <td>-0.02</td>\n",
       "      <td>-0.03</td>\n",
       "      <td>0.03</td>\n",
       "      <td>0.01</td>\n",
       "      <td>0.07</td>\n",
       "      <td>-0.00</td>\n",
       "      <td>-0.01</td>\n",
       "      <td>-0.00</td>\n",
       "      <td>...</td>\n",
       "      <td>0.02</td>\n",
       "      <td>-0.00</td>\n",
       "      <td>0.02</td>\n",
       "      <td>0.46</td>\n",
       "      <td>-0.00</td>\n",
       "      <td>0.00</td>\n",
       "      <td>0.77</td>\n",
       "      <td>0.71</td>\n",
       "      <td>0.51</td>\n",
       "      <td>1.00</td>\n",
       "    </tr>\n",
       "  </tbody>\n",
       "</table>\n",
       "<p>32 rows × 32 columns</p>\n",
       "</div>"
      ],
      "text/plain": [
       "                           Age  Attrition  BusinessTravel  DailyRate  \\\n",
       "Age                       1.00      -0.16            0.02       0.01   \n",
       "Attrition                -0.16       1.00            0.00      -0.06   \n",
       "BusinessTravel            0.02       0.00            1.00      -0.00   \n",
       "DailyRate                 0.01      -0.06           -0.00       1.00   \n",
       "Department               -0.03       0.06           -0.01       0.01   \n",
       "DistanceFromHome         -0.00       0.08           -0.02      -0.00   \n",
       "Education                 0.21      -0.03            0.00      -0.02   \n",
       "EducationField           -0.04       0.03            0.02       0.04   \n",
       "EmployeeNumber           -0.01      -0.01           -0.02      -0.05   \n",
       "EnvironmentSatisfaction   0.01      -0.10            0.00       0.02   \n",
       "Gender                   -0.04       0.03           -0.03      -0.01   \n",
       "HourlyRate                0.02      -0.01            0.03       0.02   \n",
       "JobInvolvement            0.03      -0.13            0.04       0.05   \n",
       "JobLevel                  0.51      -0.17            0.02       0.00   \n",
       "JobRole                  -0.12       0.07            0.00      -0.01   \n",
       "JobSatisfaction          -0.00      -0.10           -0.03       0.03   \n",
       "MaritalStatus            -0.10       0.16            0.02      -0.07   \n",
       "MonthlyIncome             0.50      -0.16            0.03       0.01   \n",
       "MonthlyRate               0.03       0.02           -0.01      -0.03   \n",
       "NumCompaniesWorked        0.30       0.04            0.02       0.04   \n",
       "OverTime                  0.03       0.25            0.02       0.01   \n",
       "PercentSalaryHike         0.00      -0.01           -0.03       0.02   \n",
       "PerformanceRating         0.00       0.00           -0.03       0.00   \n",
       "RelationshipSatisfaction  0.05      -0.05           -0.04       0.01   \n",
       "StockOptionLevel          0.04      -0.14           -0.02       0.04   \n",
       "TotalWorkingYears         0.68      -0.17            0.03       0.01   \n",
       "TrainingTimesLastYear    -0.02      -0.06            0.02       0.00   \n",
       "WorkLifeBalance          -0.02      -0.06           -0.01      -0.04   \n",
       "YearsAtCompany            0.31      -0.13           -0.01      -0.03   \n",
       "YearsInCurrentRole        0.21      -0.16           -0.01       0.01   \n",
       "YearsSinceLastPromotion   0.22      -0.03           -0.03      -0.03   \n",
       "YearsWithCurrManager      0.20      -0.16           -0.02      -0.03   \n",
       "\n",
       "                          Department  DistanceFromHome  Education  \\\n",
       "Age                            -0.03             -0.00       0.21   \n",
       "Attrition                       0.06              0.08      -0.03   \n",
       "BusinessTravel                 -0.01             -0.02       0.00   \n",
       "DailyRate                       0.01             -0.00      -0.02   \n",
       "Department                      1.00              0.02       0.01   \n",
       "DistanceFromHome                0.02              1.00       0.02   \n",
       "Education                       0.01              0.02       1.00   \n",
       "EducationField                  0.01              0.00      -0.04   \n",
       "EmployeeNumber                 -0.01              0.03       0.04   \n",
       "EnvironmentSatisfaction        -0.02             -0.02      -0.03   \n",
       "Gender                         -0.04             -0.00      -0.02   \n",
       "HourlyRate                     -0.00              0.03       0.02   \n",
       "JobInvolvement                 -0.02              0.01       0.04   \n",
       "JobLevel                        0.10              0.01       0.10   \n",
       "JobRole                         0.66             -0.00       0.00   \n",
       "JobSatisfaction                 0.02             -0.00      -0.01   \n",
       "MaritalStatus                   0.06             -0.01       0.00   \n",
       "MonthlyIncome                   0.05             -0.02       0.09   \n",
       "MonthlyRate                     0.02              0.03      -0.03   \n",
       "NumCompaniesWorked             -0.04             -0.03       0.13   \n",
       "OverTime                        0.01              0.03      -0.02   \n",
       "PercentSalaryHike              -0.01              0.04      -0.01   \n",
       "PerformanceRating              -0.02              0.03      -0.02   \n",
       "RelationshipSatisfaction       -0.02              0.01      -0.01   \n",
       "StockOptionLevel               -0.01              0.04       0.02   \n",
       "TotalWorkingYears              -0.02              0.00       0.15   \n",
       "TrainingTimesLastYear           0.04             -0.04      -0.03   \n",
       "WorkLifeBalance                 0.03             -0.03       0.01   \n",
       "YearsAtCompany                  0.02              0.01       0.07   \n",
       "YearsInCurrentRole              0.06              0.02       0.06   \n",
       "YearsSinceLastPromotion         0.04              0.01       0.05   \n",
       "YearsWithCurrManager            0.03              0.01       0.07   \n",
       "\n",
       "                          EducationField  EmployeeNumber  \\\n",
       "Age                                -0.04           -0.01   \n",
       "Attrition                           0.03           -0.01   \n",
       "BusinessTravel                      0.02           -0.02   \n",
       "DailyRate                           0.04           -0.05   \n",
       "Department                          0.01           -0.01   \n",
       "DistanceFromHome                    0.00            0.03   \n",
       "Education                          -0.04            0.04   \n",
       "EducationField                      1.00           -0.00   \n",
       "EmployeeNumber                     -0.00            1.00   \n",
       "EnvironmentSatisfaction             0.04            0.02   \n",
       "Gender                             -0.00            0.02   \n",
       "HourlyRate                         -0.02            0.04   \n",
       "JobInvolvement                     -0.00           -0.01   \n",
       "JobLevel                           -0.04           -0.02   \n",
       "JobRole                             0.02           -0.01   \n",
       "JobSatisfaction                    -0.03           -0.05   \n",
       "MaritalStatus                       0.01           -0.01   \n",
       "MonthlyIncome                      -0.04           -0.01   \n",
       "MonthlyRate                        -0.03            0.01   \n",
       "NumCompaniesWorked                 -0.01           -0.00   \n",
       "OverTime                            0.00           -0.02   \n",
       "PercentSalaryHike                  -0.01           -0.01   \n",
       "PerformanceRating                  -0.01           -0.02   \n",
       "RelationshipSatisfaction           -0.00           -0.07   \n",
       "StockOptionLevel                   -0.02            0.06   \n",
       "TotalWorkingYears                  -0.03           -0.01   \n",
       "TrainingTimesLastYear               0.05            0.02   \n",
       "WorkLifeBalance                     0.04            0.01   \n",
       "YearsAtCompany                     -0.02           -0.01   \n",
       "YearsInCurrentRole                 -0.01           -0.01   \n",
       "YearsSinceLastPromotion             0.00           -0.01   \n",
       "YearsWithCurrManager               -0.00           -0.01   \n",
       "\n",
       "                          EnvironmentSatisfaction  ...  PerformanceRating  \\\n",
       "Age                                          0.01  ...               0.00   \n",
       "Attrition                                   -0.10  ...               0.00   \n",
       "BusinessTravel                               0.00  ...              -0.03   \n",
       "DailyRate                                    0.02  ...               0.00   \n",
       "Department                                  -0.02  ...              -0.02   \n",
       "DistanceFromHome                            -0.02  ...               0.03   \n",
       "Education                                   -0.03  ...              -0.02   \n",
       "EducationField                               0.04  ...              -0.01   \n",
       "EmployeeNumber                               0.02  ...              -0.02   \n",
       "EnvironmentSatisfaction                      1.00  ...              -0.03   \n",
       "Gender                                       0.00  ...              -0.01   \n",
       "HourlyRate                                  -0.05  ...              -0.00   \n",
       "JobInvolvement                              -0.01  ...              -0.03   \n",
       "JobLevel                                     0.00  ...              -0.02   \n",
       "JobRole                                     -0.02  ...              -0.02   \n",
       "JobSatisfaction                             -0.01  ...               0.00   \n",
       "MaritalStatus                               -0.00  ...               0.01   \n",
       "MonthlyIncome                               -0.01  ...              -0.02   \n",
       "MonthlyRate                                  0.04  ...              -0.01   \n",
       "NumCompaniesWorked                           0.01  ...              -0.01   \n",
       "OverTime                                     0.07  ...               0.00   \n",
       "PercentSalaryHike                           -0.03  ...               0.77   \n",
       "PerformanceRating                           -0.03  ...               1.00   \n",
       "RelationshipSatisfaction                     0.01  ...              -0.03   \n",
       "StockOptionLevel                             0.00  ...               0.00   \n",
       "TotalWorkingYears                           -0.00  ...               0.01   \n",
       "TrainingTimesLastYear                       -0.02  ...              -0.02   \n",
       "WorkLifeBalance                              0.03  ...               0.00   \n",
       "YearsAtCompany                               0.00  ...               0.00   \n",
       "YearsInCurrentRole                           0.02  ...               0.03   \n",
       "YearsSinceLastPromotion                      0.02  ...               0.02   \n",
       "YearsWithCurrManager                        -0.00  ...               0.02   \n",
       "\n",
       "                          RelationshipSatisfaction  StockOptionLevel  \\\n",
       "Age                                           0.05              0.04   \n",
       "Attrition                                    -0.05             -0.14   \n",
       "BusinessTravel                               -0.04             -0.02   \n",
       "DailyRate                                     0.01              0.04   \n",
       "Department                                   -0.02             -0.01   \n",
       "DistanceFromHome                              0.01              0.04   \n",
       "Education                                    -0.01              0.02   \n",
       "EducationField                               -0.00             -0.02   \n",
       "EmployeeNumber                               -0.07              0.06   \n",
       "EnvironmentSatisfaction                       0.01              0.00   \n",
       "Gender                                        0.02              0.01   \n",
       "HourlyRate                                    0.00              0.05   \n",
       "JobInvolvement                                0.03              0.02   \n",
       "JobLevel                                      0.02              0.01   \n",
       "JobRole                                      -0.02             -0.02   \n",
       "JobSatisfaction                              -0.01              0.01   \n",
       "MaritalStatus                                 0.02             -0.66   \n",
       "MonthlyIncome                                 0.03              0.01   \n",
       "MonthlyRate                                  -0.00             -0.03   \n",
       "NumCompaniesWorked                            0.05              0.03   \n",
       "OverTime                                      0.05             -0.00   \n",
       "PercentSalaryHike                            -0.04              0.01   \n",
       "PerformanceRating                            -0.03              0.00   \n",
       "RelationshipSatisfaction                      1.00             -0.05   \n",
       "StockOptionLevel                             -0.05              1.00   \n",
       "TotalWorkingYears                             0.02              0.01   \n",
       "TrainingTimesLastYear                         0.00              0.01   \n",
       "WorkLifeBalance                               0.02              0.00   \n",
       "YearsAtCompany                                0.02              0.02   \n",
       "YearsInCurrentRole                           -0.02              0.05   \n",
       "YearsSinceLastPromotion                       0.03              0.01   \n",
       "YearsWithCurrManager                         -0.00              0.02   \n",
       "\n",
       "                          TotalWorkingYears  TrainingTimesLastYear  \\\n",
       "Age                                    0.68                  -0.02   \n",
       "Attrition                             -0.17                  -0.06   \n",
       "BusinessTravel                         0.03                   0.02   \n",
       "DailyRate                              0.01                   0.00   \n",
       "Department                            -0.02                   0.04   \n",
       "DistanceFromHome                       0.00                  -0.04   \n",
       "Education                              0.15                  -0.03   \n",
       "EducationField                        -0.03                   0.05   \n",
       "EmployeeNumber                        -0.01                   0.02   \n",
       "EnvironmentSatisfaction               -0.00                  -0.02   \n",
       "Gender                                -0.05                  -0.04   \n",
       "HourlyRate                            -0.00                  -0.01   \n",
       "JobInvolvement                        -0.01                  -0.02   \n",
       "JobLevel                               0.78                  -0.02   \n",
       "JobRole                               -0.15                   0.00   \n",
       "JobSatisfaction                       -0.02                  -0.01   \n",
       "MaritalStatus                         -0.08                   0.01   \n",
       "MonthlyIncome                          0.77                  -0.02   \n",
       "MonthlyRate                            0.03                   0.00   \n",
       "NumCompaniesWorked                     0.24                  -0.07   \n",
       "OverTime                               0.01                  -0.08   \n",
       "PercentSalaryHike                     -0.02                  -0.01   \n",
       "PerformanceRating                      0.01                  -0.02   \n",
       "RelationshipSatisfaction               0.02                   0.00   \n",
       "StockOptionLevel                       0.01                   0.01   \n",
       "TotalWorkingYears                      1.00                  -0.04   \n",
       "TrainingTimesLastYear                 -0.04                   1.00   \n",
       "WorkLifeBalance                        0.00                   0.03   \n",
       "YearsAtCompany                         0.63                   0.00   \n",
       "YearsInCurrentRole                     0.46                  -0.01   \n",
       "YearsSinceLastPromotion                0.40                  -0.00   \n",
       "YearsWithCurrManager                   0.46                  -0.00   \n",
       "\n",
       "                          WorkLifeBalance  YearsAtCompany  YearsInCurrentRole  \\\n",
       "Age                                 -0.02            0.31                0.21   \n",
       "Attrition                           -0.06           -0.13               -0.16   \n",
       "BusinessTravel                      -0.01           -0.01               -0.01   \n",
       "DailyRate                           -0.04           -0.03                0.01   \n",
       "Department                           0.03            0.02                0.06   \n",
       "DistanceFromHome                    -0.03            0.01                0.02   \n",
       "Education                            0.01            0.07                0.06   \n",
       "EducationField                       0.04           -0.02               -0.01   \n",
       "EmployeeNumber                       0.01           -0.01               -0.01   \n",
       "EnvironmentSatisfaction              0.03            0.00                0.02   \n",
       "Gender                              -0.00           -0.03               -0.04   \n",
       "HourlyRate                          -0.00           -0.02               -0.02   \n",
       "JobInvolvement                      -0.01           -0.02                0.01   \n",
       "JobLevel                             0.04            0.53                0.39   \n",
       "JobRole                              0.03           -0.08               -0.03   \n",
       "JobSatisfaction                     -0.02           -0.00               -0.00   \n",
       "MaritalStatus                        0.01           -0.06               -0.07   \n",
       "MonthlyIncome                        0.03            0.51                0.36   \n",
       "MonthlyRate                          0.01           -0.02               -0.01   \n",
       "NumCompaniesWorked                  -0.01           -0.12               -0.09   \n",
       "OverTime                            -0.03           -0.01               -0.03   \n",
       "PercentSalaryHike                   -0.00           -0.04               -0.00   \n",
       "PerformanceRating                    0.00            0.00                0.03   \n",
       "RelationshipSatisfaction             0.02            0.02               -0.02   \n",
       "StockOptionLevel                     0.00            0.02                0.05   \n",
       "TotalWorkingYears                    0.00            0.63                0.46   \n",
       "TrainingTimesLastYear                0.03            0.00               -0.01   \n",
       "WorkLifeBalance                      1.00            0.01                0.05   \n",
       "YearsAtCompany                       0.01            1.00                0.76   \n",
       "YearsInCurrentRole                   0.05            0.76                1.00   \n",
       "YearsSinceLastPromotion              0.01            0.62                0.55   \n",
       "YearsWithCurrManager                 0.00            0.77                0.71   \n",
       "\n",
       "                          YearsSinceLastPromotion  YearsWithCurrManager  \n",
       "Age                                          0.22                  0.20  \n",
       "Attrition                                   -0.03                 -0.16  \n",
       "BusinessTravel                              -0.03                 -0.02  \n",
       "DailyRate                                   -0.03                 -0.03  \n",
       "Department                                   0.04                  0.03  \n",
       "DistanceFromHome                             0.01                  0.01  \n",
       "Education                                    0.05                  0.07  \n",
       "EducationField                               0.00                 -0.00  \n",
       "EmployeeNumber                              -0.01                 -0.01  \n",
       "EnvironmentSatisfaction                      0.02                 -0.00  \n",
       "Gender                                      -0.03                 -0.03  \n",
       "HourlyRate                                  -0.03                 -0.02  \n",
       "JobInvolvement                              -0.02                  0.03  \n",
       "JobLevel                                     0.35                  0.38  \n",
       "JobRole                                     -0.05                 -0.04  \n",
       "JobSatisfaction                             -0.02                 -0.03  \n",
       "MaritalStatus                               -0.03                 -0.04  \n",
       "MonthlyIncome                                0.34                  0.34  \n",
       "MonthlyRate                                  0.00                 -0.04  \n",
       "NumCompaniesWorked                          -0.04                 -0.11  \n",
       "OverTime                                    -0.01                 -0.04  \n",
       "PercentSalaryHike                           -0.02                 -0.01  \n",
       "PerformanceRating                            0.02                  0.02  \n",
       "RelationshipSatisfaction                     0.03                 -0.00  \n",
       "StockOptionLevel                             0.01                  0.02  \n",
       "TotalWorkingYears                            0.40                  0.46  \n",
       "TrainingTimesLastYear                       -0.00                 -0.00  \n",
       "WorkLifeBalance                              0.01                  0.00  \n",
       "YearsAtCompany                               0.62                  0.77  \n",
       "YearsInCurrentRole                           0.55                  0.71  \n",
       "YearsSinceLastPromotion                      1.00                  0.51  \n",
       "YearsWithCurrManager                         0.51                  1.00  \n",
       "\n",
       "[32 rows x 32 columns]"
      ]
     },
     "execution_count": 186,
     "metadata": {},
     "output_type": "execute_result"
    }
   ],
   "source": [
    "# correlation Matrix\n",
    "round(df.corr(),2)"
   ]
  },
  {
   "cell_type": "code",
   "execution_count": 145,
   "id": "67684778",
   "metadata": {
    "collapsed": true
   },
   "outputs": [
    {
     "data": {
      "text/plain": [
       "<AxesSubplot:>"
      ]
     },
     "execution_count": 145,
     "metadata": {},
     "output_type": "execute_result"
    },
    {
     "data": {
      "image/png": "[encoded data removed]",
      "text/plain": [
       "<Figure size 1800x1080 with 2 Axes>"
      ]
     },
     "metadata": {
      "needs_background": "light"
     },
     "output_type": "display_data"
    }
   ],
   "source": [
    "# correlation Matrix\n",
    "plt.figure(figsize=(25,15))\n",
    "sns.heatmap(df.corr(),annot=True)"
   ]
  },
  {
   "cell_type": "code",
   "execution_count": 146,
   "id": "2a0632f9",
   "metadata": {
    "scrolled": true
   },
   "outputs": [
    {
     "data": {
      "text/plain": [
       "Attrition                   1.000000\n",
       "OverTime                    0.246118\n",
       "MaritalStatus               0.162070\n",
       "DistanceFromHome            0.077924\n",
       "JobRole                     0.067151\n",
       "Department                  0.063991\n",
       "NumCompaniesWorked          0.043494\n",
       "Gender                      0.029453\n",
       "EducationField              0.026846\n",
       "MonthlyRate                 0.015170\n",
       "PerformanceRating           0.002889\n",
       "BusinessTravel              0.000074\n",
       "HourlyRate                 -0.006846\n",
       "EmployeeNumber             -0.010577\n",
       "PercentSalaryHike          -0.013478\n",
       "Education                  -0.031373\n",
       "YearsSinceLastPromotion    -0.033019\n",
       "RelationshipSatisfaction   -0.045872\n",
       "DailyRate                  -0.056652\n",
       "TrainingTimesLastYear      -0.059478\n",
       "WorkLifeBalance            -0.063939\n",
       "EnvironmentSatisfaction    -0.103369\n",
       "JobSatisfaction            -0.103481\n",
       "JobInvolvement             -0.130016\n",
       "YearsAtCompany             -0.134392\n",
       "StockOptionLevel           -0.137145\n",
       "YearsWithCurrManager       -0.156199\n",
       "MonthlyIncome              -0.159840\n",
       "YearsInCurrentRole         -0.160545\n",
       "JobLevel                   -0.169105\n",
       "TotalWorkingYears          -0.171063\n",
       "Name: Attrition, dtype: float64"
      ]
     },
     "execution_count": 146,
     "metadata": {},
     "output_type": "execute_result"
    }
   ],
   "source": [
    "# correlation with Attrition\n",
    "df.corr()['Attrition'].sort_values(ascending=False)"
   ]
  },
  {
   "cell_type": "markdown",
   "id": "56a33da6",
   "metadata": {},
   "source": [
    "**+vely correlated Features with target:**\n",
    "    OverTime  ,\n",
    "    MaritalStatus, \n",
    "    DistanceFromHome,   \n",
    "    JobRole,      \n",
    "    Department,        \n",
    "    NumCompaniesWorked ,  \n",
    "    Gender  ,               \n",
    "    EducationField  ,       \n",
    "    MonthlyRate,           \n",
    "    PerformanceRating,        \n",
    "    BusinessTravel, \n",
    "**-vely correlated Features with target:**\n",
    "    HourlyRate   \n",
    "    EmployeeNumber     \n",
    "    Education                \n",
    "    YearsSinceLastPromotion\n",
    "    RelationshipSatisfaction  \n",
    "    DailyRate              \n",
    "    TrainingTimesLastYear\n",
    "    EnvironmentSatisfaction    \n",
    "    JobSatisfaction           \n",
    "    JobInvolvement             \n",
    "    YearsAtCompany            \n",
    "    StockOptionLevel           \n",
    "    YearsWithCurrManager      \n",
    "    Age                       \n",
    "    MonthlyIncome              \n",
    "    YearsInCurrentRole        \n",
    "    JobLevel                   \n",
    "    TotalWorkingYears"
   ]
  },
  {
   "cell_type": "code",
   "execution_count": 131,
   "id": "abff6163",
   "metadata": {},
   "outputs": [
    {
     "data": {
      "text/plain": [
       "Text(0.5, 1.0, 'Correlation with target')"
      ]
     },
     "execution_count": 131,
     "metadata": {},
     "output_type": "execute_result"
    },
    {
     "data": {
      "image/png": "[encoded data removed]",
      "text/plain": [
       "<Figure size 432x288 with 1 Axes>"
      ]
     },
     "metadata": {
      "needs_background": "light"
     },
     "output_type": "display_data"
    }
   ],
   "source": [
    "#Correlation with target\n",
    "df.corr()['Attrition'].sort_values(ascending=False).drop(['Attrition']).plot(kind='bar')\n",
    "plt.xlabel('Features',fontsize=20)\n",
    "plt.ylabel('Attrition')\n",
    "plt.title('Correlation with target')"
   ]
  },
  {
   "cell_type": "code",
   "execution_count": 31,
   "id": "333b44a7",
   "metadata": {
    "scrolled": true
   },
   "outputs": [
    {
     "data": {
      "text/plain": [
       "<AxesSubplot:xlabel='OverTime', ylabel='Attrition'>"
      ]
     },
     "execution_count": 31,
     "metadata": {},
     "output_type": "execute_result"
    },
    {
     "data": {
      "image/png": "[encoded data removed]",
      "text/plain": [
       "<Figure size 432x288 with 1 Axes>"
      ]
     },
     "metadata": {
      "needs_background": "light"
     },
     "output_type": "display_data"
    }
   ],
   "source": [
    "sns.barplot('OverTime','Attrition',data=df)"
   ]
  },
  {
   "cell_type": "code",
   "execution_count": 32,
   "id": "94fa2e63",
   "metadata": {},
   "outputs": [
    {
     "data": {
      "text/plain": [
       "0    1054\n",
       "1     416\n",
       "Name: OverTime, dtype: int64"
      ]
     },
     "execution_count": 32,
     "metadata": {},
     "output_type": "execute_result"
    }
   ],
   "source": [
    "df['OverTime'].value_counts()"
   ]
  },
  {
   "cell_type": "code",
   "execution_count": 33,
   "id": "96ca8e06",
   "metadata": {},
   "outputs": [
    {
     "data": {
      "text/plain": [
       "Attrition  OverTime\n",
       "0          0           944\n",
       "           1           289\n",
       "1          1           127\n",
       "           0           110\n",
       "Name: OverTime, dtype: int64"
      ]
     },
     "execution_count": 33,
     "metadata": {},
     "output_type": "execute_result"
    }
   ],
   "source": [
    "df.groupby('Attrition')['OverTime'].value_counts()"
   ]
  },
  {
   "cell_type": "markdown",
   "id": "afebf02e",
   "metadata": {},
   "source": [
    "**-Attrition rate of employees having Overtime 1 is very high (out of 416(127) are attrited 30%)\n",
    "-Attrition rate of employees having Overtime 0 is very high (out of 1054(110) are attrited 11%)**"
   ]
  },
  {
   "cell_type": "markdown",
   "id": "4a6fb53d",
   "metadata": {},
   "source": [
    "### Checking Data Skewness"
   ]
  },
  {
   "cell_type": "code",
   "execution_count": 147,
   "id": "8432d438",
   "metadata": {},
   "outputs": [
    {
     "data": {
      "text/plain": [
       "Attrition                   1.844366\n",
       "BusinessTravel             -1.439006\n",
       "DailyRate                  -0.003519\n",
       "Department                  0.172231\n",
       "DistanceFromHome            0.958118\n",
       "Education                  -0.289681\n",
       "EducationField              0.550371\n",
       "EmployeeNumber              0.016574\n",
       "EnvironmentSatisfaction    -0.321654\n",
       "Gender                     -0.408665\n",
       "HourlyRate                 -0.032311\n",
       "JobInvolvement             -0.498419\n",
       "JobLevel                    1.025401\n",
       "JobRole                    -0.357270\n",
       "JobSatisfaction            -0.329672\n",
       "MaritalStatus              -0.152175\n",
       "MonthlyIncome               1.369817\n",
       "MonthlyRate                 0.018578\n",
       "NumCompaniesWorked          1.026471\n",
       "OverTime                    0.964489\n",
       "PercentSalaryHike           0.821128\n",
       "PerformanceRating           1.921883\n",
       "RelationshipSatisfaction   -0.302828\n",
       "StockOptionLevel            0.968980\n",
       "TotalWorkingYears           1.117172\n",
       "TrainingTimesLastYear       0.553124\n",
       "WorkLifeBalance            -0.552480\n",
       "YearsAtCompany              1.764529\n",
       "YearsInCurrentRole          0.917363\n",
       "YearsSinceLastPromotion     1.984290\n",
       "YearsWithCurrManager        0.833451\n",
       "dtype: float64"
      ]
     },
     "execution_count": 147,
     "metadata": {},
     "output_type": "execute_result"
    }
   ],
   "source": [
    "df.skew()"
   ]
  },
  {
   "cell_type": "markdown",
   "id": "a248f2c2",
   "metadata": {},
   "source": [
    "**After considering accepltable range +/-0.5 there is skewness is present in many features**"
   ]
  },
  {
   "cell_type": "markdown",
   "id": "92594016",
   "metadata": {},
   "source": [
    "### Remove Skewness by Power Transform method"
   ]
  },
  {
   "cell_type": "code",
   "execution_count": 10,
   "id": "ba06f7e1",
   "metadata": {},
   "outputs": [
    {
     "data": {
      "text/plain": [
       "Age                        -0.007603\n",
       "BusinessTravel             -0.970506\n",
       "DailyRate                  -0.196160\n",
       "Department                  0.013801\n",
       "DistanceFromHome           -0.007468\n",
       "Education                  -0.099881\n",
       "EducationField             -0.008386\n",
       "EmployeeNumber             -0.288025\n",
       "EnvironmentSatisfaction    -0.205395\n",
       "Gender                     -0.408665\n",
       "HourlyRate                 -0.106461\n",
       "JobInvolvement             -0.020365\n",
       "JobLevel                    0.103624\n",
       "JobRole                    -0.319659\n",
       "JobSatisfaction            -0.212815\n",
       "MaritalStatus              -0.156911\n",
       "MonthlyIncome               0.000000\n",
       "MonthlyRate                -0.184087\n",
       "NumCompaniesWorked          0.014814\n",
       "OverTime                    0.964489\n",
       "PercentSalaryHike           0.116250\n",
       "PerformanceRating           1.921883\n",
       "RelationshipSatisfaction   -0.193634\n",
       "StockOptionLevel            0.087019\n",
       "TotalWorkingYears          -0.010653\n",
       "TrainingTimesLastYear       0.058058\n",
       "WorkLifeBalance            -0.012286\n",
       "YearsAtCompany             -0.008683\n",
       "YearsInCurrentRole         -0.060849\n",
       "YearsSinceLastPromotion     0.212129\n",
       "YearsWithCurrManager       -0.067565\n",
       "dtype: float64"
      ]
     },
     "execution_count": 10,
     "metadata": {},
     "output_type": "execute_result"
    }
   ],
   "source": [
    "from sklearn.preprocessing import power_transform\n",
    "df_skew=df.drop('Attrition' , axis=1)\n",
    "df_new= power_transform( df_skew , method='yeo-johnson')\n",
    "\n",
    "cols=df_skew.columns\n",
    "df_new=pd.DataFrame(df_new , columns=cols)\n",
    "\n",
    "#check the skewness in df\n",
    "df_new.skew()"
   ]
  },
  {
   "cell_type": "markdown",
   "id": "fb965bcf",
   "metadata": {},
   "source": [
    "#### Checking for Outliers"
   ]
  },
  {
   "cell_type": "code",
   "execution_count": 11,
   "id": "b1f702a1",
   "metadata": {},
   "outputs": [
    {
     "data": {
      "image/png": "[encoded data removed]",
      "text/plain": [
       "<Figure size 3600x504 with 1 Axes>"
      ]
     },
     "metadata": {
      "needs_background": "light"
     },
     "output_type": "display_data"
    }
   ],
   "source": [
    "fig = plt.figure(figsize =(50,7))\n",
    " \n",
    "# Creating axes instance\n",
    "ax = fig.add_axes([0, 0, 1, 1])\n",
    " \n",
    "# Creating plot\n",
    "\n",
    "bp = ax.boxplot(df ,data=df,labels=df.columns)\n",
    "\n",
    "# show plot\n",
    "plt.show()"
   ]
  },
  {
   "cell_type": "markdown",
   "id": "db25a843",
   "metadata": {},
   "source": [
    "**we can see there are few outliers present in monthly income .**"
   ]
  },
  {
   "cell_type": "code",
   "execution_count": 12,
   "id": "dadd80f9",
   "metadata": {},
   "outputs": [
    {
     "name": "stdout",
     "output_type": "stream",
     "text": [
      "[[0.4463504  2.28090588 0.59004834 ... 0.0632959  0.67914568 0.24583399]\n",
      " [1.32236521 0.4384223  0.91319439 ... 0.76499762 0.36871529 0.80654148]\n",
      " [0.008343   2.28090588 0.59004834 ... 1.16768726 0.67914568 1.15593471]\n",
      " ...\n",
      " [1.08667552 0.4384223  0.59004834 ... 0.61549158 0.67914568 0.31487349]\n",
      " [1.32236521 0.4384223  0.91319439 ... 0.48889978 0.67914568 1.08689522]\n",
      " [0.32016256 0.4384223  0.59004834 ... 0.33939374 0.36871529 0.59522723]]\n"
     ]
    }
   ],
   "source": [
    "from scipy import stats\n",
    "import numpy as np\n",
    "z = np.abs(stats.zscore(df))\n",
    "print(z)"
   ]
  },
  {
   "cell_type": "code",
   "execution_count": 13,
   "id": "249a13b4",
   "metadata": {},
   "outputs": [
    {
     "name": "stdout",
     "output_type": "stream",
     "text": [
      "Indexes at which Outliers are present.\n",
      "(array([  28,   45,   62,   62,   63,   64,   85,   98,   98,  110,  123,\n",
      "        123,  123,  126,  126,  126,  153,  178,  187,  187,  190,  190,\n",
      "        218,  231,  231,  237,  237,  270,  270,  281,  326,  386,  386,\n",
      "        401,  411,  425,  425,  427,  445,  466,  473,  477,  535,  561,\n",
      "        561,  584,  592,  595,  595,  595,  616,  624,  635,  653,  653,\n",
      "        677,  686,  701,  716,  746,  749,  752,  799,  838,  861,  861,\n",
      "        875,  875,  894,  914,  914,  918,  922,  926,  926,  937,  956,\n",
      "        962,  976,  976, 1008, 1024, 1043, 1078, 1078, 1086, 1086, 1093,\n",
      "       1111, 1116, 1116, 1135, 1138, 1138, 1156, 1184, 1221, 1223, 1242,\n",
      "       1295, 1301, 1301, 1303, 1327, 1331, 1348, 1351, 1401, 1414, 1430],\n",
      "      dtype=int64), array([31, 30, 28, 30, 29, 30, 25, 25, 28, 30, 29, 30, 31, 25, 28, 30, 31,\n",
      "       30, 25, 31, 28, 29, 30, 29, 31, 28, 30, 25, 28, 29, 30, 30, 31, 25,\n",
      "       28, 28, 30, 30, 25, 29, 28, 28, 30, 28, 31, 30, 28, 25, 28, 30, 31,\n",
      "       25, 31, 28, 30, 28, 31, 30, 29, 29, 28, 30, 30, 30, 28, 30, 30, 31,\n",
      "       25, 28, 30, 28, 30, 30, 31, 30, 25, 28, 29, 30, 30, 29, 25, 30, 31,\n",
      "       28, 30, 30, 28, 25, 28, 28, 28, 30, 30, 25, 30, 30, 30, 30, 25, 30,\n",
      "       30, 29, 30, 31, 29, 25, 30, 29], dtype=int64))\n"
     ]
    }
   ],
   "source": [
    "threshold = 3\n",
    "#print index no\n",
    "print(\"Indexes at which Outliers are present.\")\n",
    "print(np.where(z > 3))"
   ]
  },
  {
   "cell_type": "code",
   "execution_count": 14,
   "id": "37070523",
   "metadata": {},
   "outputs": [
    {
     "data": {
      "text/plain": [
       "110"
      ]
     },
     "execution_count": 14,
     "metadata": {},
     "output_type": "execute_result"
    }
   ],
   "source": [
    "# No of outliers present\n",
    "len(np.where(z>3)[0])"
   ]
  },
  {
   "cell_type": "code",
   "execution_count": 15,
   "id": "57ef728f",
   "metadata": {},
   "outputs": [
    {
     "data": {
      "text/plain": [
       "(1470, 32)"
      ]
     },
     "execution_count": 15,
     "metadata": {},
     "output_type": "execute_result"
    }
   ],
   "source": [
    "df.shape"
   ]
  },
  {
   "cell_type": "code",
   "execution_count": 16,
   "id": "8f174683",
   "metadata": {},
   "outputs": [
    {
     "name": "stdout",
     "output_type": "stream",
     "text": [
      "% data loss due to droping outliers is : 7.482993197278915\n"
     ]
    }
   ],
   "source": [
    " \n",
    "#% data loss\n",
    "loss=100-((1470-110)/1470*100)\n",
    "print(\"% data loss due to droping outliers is :\",loss)"
   ]
  },
  {
   "cell_type": "code",
   "execution_count": 17,
   "id": "5f2eec37",
   "metadata": {},
   "outputs": [],
   "source": [
    "## Droping outliers\n",
    "df_new=df.drop([28,45,62,   62,   63,   64,   85,   98,   98,  110,  123,\n",
    "        123,  123,  126,  126,  126,  153,  178,  187,  187,  190,  190,\n",
    "        218,  231,  231,  237,  237,  270,  270,  281,  326,  386,  386,\n",
    "        401,  411,  425,  425,  427,  445,  466,  473,  477,  535,  561,\n",
    "        561,  584,  592,  595,  595,  595,  616,  624,  635,  653,  653,\n",
    "        677,  686,  701,  716,  746,  749,  752,  799,  838,  861,  861,\n",
    "        875,  875,  894,  914,  914,  918,  922,  926,  926,  937,  956,\n",
    "        962,  976,  976, 1008, 1024, 1043, 1078, 1078, 1086, 1086, 1093,\n",
    "       1111, 1116, 1116, 1135, 1138, 1138, 1156, 1184, 1221, 1223, 1242,\n",
    "       1295, 1301, 1301, 1303, 1327, 1331, 1348, 1351, 1401, 1414, 1430])"
   ]
  },
  {
   "cell_type": "code",
   "execution_count": 18,
   "id": "98ba9839",
   "metadata": {},
   "outputs": [
    {
     "data": {
      "text/plain": [
       "(1387, 32)"
      ]
     },
     "execution_count": 18,
     "metadata": {},
     "output_type": "execute_result"
    }
   ],
   "source": [
    "df_new.shape"
   ]
  },
  {
   "cell_type": "markdown",
   "id": "bb597d73",
   "metadata": {},
   "source": [
    "### finding Inter correlation"
   ]
  },
  {
   "cell_type": "code",
   "execution_count": 19,
   "id": "817d6e6a",
   "metadata": {},
   "outputs": [],
   "source": [
    "\n",
    "# function to select for highly correlated features. \n",
    "#will remove first feature which is highly correlared with any other feature\n",
    "\n",
    "def correlation(dataset , threshold):\n",
    "    col_corr =set() # set of all names of correlated features we have taken st from preventing duplicate entries of columns\n",
    "    corr_matrix = dataset.corr()\n",
    "    for i in range(len(corr_matrix.columns)):\n",
    "        for j in range(i):\n",
    "            if(corr_matrix.iloc[i,j]> threshold):\n",
    "                col_name=corr_matrix.columns[i]\n",
    "                col_corr.add(col_name)\n",
    "    return col_corr"
   ]
  },
  {
   "cell_type": "code",
   "execution_count": 20,
   "id": "1e2d8f6e",
   "metadata": {},
   "outputs": [
    {
     "data": {
      "text/plain": [
       "1"
      ]
     },
     "execution_count": 20,
     "metadata": {},
     "output_type": "execute_result"
    }
   ],
   "source": [
    "#Finding Multicolinearity\n",
    "cor_features=correlation(df ,0.9)\n",
    "len(cor_features)"
   ]
  },
  {
   "cell_type": "code",
   "execution_count": 21,
   "id": "edf049bc",
   "metadata": {},
   "outputs": [
    {
     "data": {
      "text/plain": [
       "{'MonthlyIncome'}"
      ]
     },
     "execution_count": 21,
     "metadata": {},
     "output_type": "execute_result"
    }
   ],
   "source": [
    "cor_features"
   ]
  },
  {
   "cell_type": "code",
   "execution_count": 22,
   "id": "b615429b",
   "metadata": {},
   "outputs": [
    {
     "data": {
      "text/plain": [
       "MonthlyIncome               1.000000\n",
       "JobLevel                    0.950300\n",
       "TotalWorkingYears           0.772893\n",
       "YearsAtCompany              0.514285\n",
       "Age                         0.497855\n",
       "YearsInCurrentRole          0.363818\n",
       "YearsSinceLastPromotion     0.344978\n",
       "YearsWithCurrManager        0.344079\n",
       "NumCompaniesWorked          0.149515\n",
       "Education                   0.094961\n",
       "Department                  0.053130\n",
       "MonthlyRate                 0.034814\n",
       "BusinessTravel              0.034319\n",
       "WorkLifeBalance             0.030683\n",
       "RelationshipSatisfaction    0.025873\n",
       "DailyRate                   0.007707\n",
       "OverTime                    0.006089\n",
       "StockOptionLevel            0.005408\n",
       "EnvironmentSatisfaction    -0.006259\n",
       "JobSatisfaction            -0.007157\n",
       "EmployeeNumber             -0.014829\n",
       "JobInvolvement             -0.015271\n",
       "HourlyRate                 -0.015794\n",
       "DistanceFromHome           -0.017014\n",
       "PerformanceRating          -0.017120\n",
       "TrainingTimesLastYear      -0.021736\n",
       "PercentSalaryHike          -0.027269\n",
       "Gender                     -0.031858\n",
       "EducationField             -0.041070\n",
       "MaritalStatus              -0.075450\n",
       "JobRole                    -0.093951\n",
       "Attrition                  -0.159840\n",
       "Name: MonthlyIncome, dtype: float64"
      ]
     },
     "execution_count": 22,
     "metadata": {},
     "output_type": "execute_result"
    }
   ],
   "source": [
    "df.corr()['MonthlyIncome'].sort_values(ascending=False)"
   ]
  },
  {
   "cell_type": "markdown",
   "id": "91cbfd51",
   "metadata": {},
   "source": [
    "**as 'MonthlyIncome' has 95% correlation with 'JobLevel'  will drop it**"
   ]
  },
  {
   "cell_type": "code",
   "execution_count": 23,
   "id": "86f1a427",
   "metadata": {},
   "outputs": [],
   "source": [
    "## droping MonthlyIncome\n",
    "df=df_new\n",
    "df.drop('MonthlyIncome',axis=1,inplace=True)"
   ]
  },
  {
   "cell_type": "code",
   "execution_count": 24,
   "id": "b98e9fc1",
   "metadata": {},
   "outputs": [
    {
     "data": {
      "text/html": [
       "<div>\n",
       "<style scoped>\n",
       "    .dataframe tbody tr th:only-of-type {\n",
       "        vertical-align: middle;\n",
       "    }\n",
       "\n",
       "    .dataframe tbody tr th {\n",
       "        vertical-align: top;\n",
       "    }\n",
       "\n",
       "    .dataframe thead th {\n",
       "        text-align: right;\n",
       "    }\n",
       "</style>\n",
       "<table border=\"1\" class=\"dataframe\">\n",
       "  <thead>\n",
       "    <tr style=\"text-align: right;\">\n",
       "      <th></th>\n",
       "      <th>Age</th>\n",
       "      <th>Attrition</th>\n",
       "      <th>BusinessTravel</th>\n",
       "      <th>DailyRate</th>\n",
       "      <th>Department</th>\n",
       "      <th>DistanceFromHome</th>\n",
       "      <th>Education</th>\n",
       "      <th>EducationField</th>\n",
       "      <th>EmployeeNumber</th>\n",
       "      <th>EnvironmentSatisfaction</th>\n",
       "      <th>...</th>\n",
       "      <th>PerformanceRating</th>\n",
       "      <th>RelationshipSatisfaction</th>\n",
       "      <th>StockOptionLevel</th>\n",
       "      <th>TotalWorkingYears</th>\n",
       "      <th>TrainingTimesLastYear</th>\n",
       "      <th>WorkLifeBalance</th>\n",
       "      <th>YearsAtCompany</th>\n",
       "      <th>YearsInCurrentRole</th>\n",
       "      <th>YearsSinceLastPromotion</th>\n",
       "      <th>YearsWithCurrManager</th>\n",
       "    </tr>\n",
       "  </thead>\n",
       "  <tbody>\n",
       "    <tr>\n",
       "      <th>0</th>\n",
       "      <td>41</td>\n",
       "      <td>1</td>\n",
       "      <td>2</td>\n",
       "      <td>1102</td>\n",
       "      <td>2</td>\n",
       "      <td>1</td>\n",
       "      <td>2</td>\n",
       "      <td>1</td>\n",
       "      <td>1</td>\n",
       "      <td>2</td>\n",
       "      <td>...</td>\n",
       "      <td>3</td>\n",
       "      <td>1</td>\n",
       "      <td>0</td>\n",
       "      <td>8</td>\n",
       "      <td>0</td>\n",
       "      <td>1</td>\n",
       "      <td>6</td>\n",
       "      <td>4</td>\n",
       "      <td>0</td>\n",
       "      <td>5</td>\n",
       "    </tr>\n",
       "    <tr>\n",
       "      <th>1</th>\n",
       "      <td>49</td>\n",
       "      <td>0</td>\n",
       "      <td>1</td>\n",
       "      <td>279</td>\n",
       "      <td>1</td>\n",
       "      <td>8</td>\n",
       "      <td>1</td>\n",
       "      <td>1</td>\n",
       "      <td>2</td>\n",
       "      <td>3</td>\n",
       "      <td>...</td>\n",
       "      <td>4</td>\n",
       "      <td>4</td>\n",
       "      <td>1</td>\n",
       "      <td>10</td>\n",
       "      <td>3</td>\n",
       "      <td>3</td>\n",
       "      <td>10</td>\n",
       "      <td>7</td>\n",
       "      <td>1</td>\n",
       "      <td>7</td>\n",
       "    </tr>\n",
       "    <tr>\n",
       "      <th>2</th>\n",
       "      <td>37</td>\n",
       "      <td>1</td>\n",
       "      <td>2</td>\n",
       "      <td>1373</td>\n",
       "      <td>1</td>\n",
       "      <td>2</td>\n",
       "      <td>2</td>\n",
       "      <td>4</td>\n",
       "      <td>4</td>\n",
       "      <td>4</td>\n",
       "      <td>...</td>\n",
       "      <td>3</td>\n",
       "      <td>2</td>\n",
       "      <td>0</td>\n",
       "      <td>7</td>\n",
       "      <td>3</td>\n",
       "      <td>3</td>\n",
       "      <td>0</td>\n",
       "      <td>0</td>\n",
       "      <td>0</td>\n",
       "      <td>0</td>\n",
       "    </tr>\n",
       "    <tr>\n",
       "      <th>3</th>\n",
       "      <td>33</td>\n",
       "      <td>0</td>\n",
       "      <td>1</td>\n",
       "      <td>1392</td>\n",
       "      <td>1</td>\n",
       "      <td>3</td>\n",
       "      <td>4</td>\n",
       "      <td>1</td>\n",
       "      <td>5</td>\n",
       "      <td>4</td>\n",
       "      <td>...</td>\n",
       "      <td>3</td>\n",
       "      <td>3</td>\n",
       "      <td>0</td>\n",
       "      <td>8</td>\n",
       "      <td>3</td>\n",
       "      <td>3</td>\n",
       "      <td>8</td>\n",
       "      <td>7</td>\n",
       "      <td>3</td>\n",
       "      <td>0</td>\n",
       "    </tr>\n",
       "    <tr>\n",
       "      <th>4</th>\n",
       "      <td>27</td>\n",
       "      <td>0</td>\n",
       "      <td>2</td>\n",
       "      <td>591</td>\n",
       "      <td>1</td>\n",
       "      <td>2</td>\n",
       "      <td>1</td>\n",
       "      <td>3</td>\n",
       "      <td>7</td>\n",
       "      <td>1</td>\n",
       "      <td>...</td>\n",
       "      <td>3</td>\n",
       "      <td>4</td>\n",
       "      <td>1</td>\n",
       "      <td>6</td>\n",
       "      <td>3</td>\n",
       "      <td>3</td>\n",
       "      <td>2</td>\n",
       "      <td>2</td>\n",
       "      <td>2</td>\n",
       "      <td>2</td>\n",
       "    </tr>\n",
       "  </tbody>\n",
       "</table>\n",
       "<p>5 rows × 31 columns</p>\n",
       "</div>"
      ],
      "text/plain": [
       "   Age  Attrition  BusinessTravel  DailyRate  Department  DistanceFromHome  \\\n",
       "0   41          1               2       1102           2                 1   \n",
       "1   49          0               1        279           1                 8   \n",
       "2   37          1               2       1373           1                 2   \n",
       "3   33          0               1       1392           1                 3   \n",
       "4   27          0               2        591           1                 2   \n",
       "\n",
       "   Education  EducationField  EmployeeNumber  EnvironmentSatisfaction  ...  \\\n",
       "0          2               1               1                        2  ...   \n",
       "1          1               1               2                        3  ...   \n",
       "2          2               4               4                        4  ...   \n",
       "3          4               1               5                        4  ...   \n",
       "4          1               3               7                        1  ...   \n",
       "\n",
       "   PerformanceRating  RelationshipSatisfaction  StockOptionLevel  \\\n",
       "0                  3                         1                 0   \n",
       "1                  4                         4                 1   \n",
       "2                  3                         2                 0   \n",
       "3                  3                         3                 0   \n",
       "4                  3                         4                 1   \n",
       "\n",
       "   TotalWorkingYears  TrainingTimesLastYear  WorkLifeBalance  YearsAtCompany  \\\n",
       "0                  8                      0                1               6   \n",
       "1                 10                      3                3              10   \n",
       "2                  7                      3                3               0   \n",
       "3                  8                      3                3               8   \n",
       "4                  6                      3                3               2   \n",
       "\n",
       "   YearsInCurrentRole  YearsSinceLastPromotion  YearsWithCurrManager  \n",
       "0                   4                        0                     5  \n",
       "1                   7                        1                     7  \n",
       "2                   0                        0                     0  \n",
       "3                   7                        3                     0  \n",
       "4                   2                        2                     2  \n",
       "\n",
       "[5 rows x 31 columns]"
      ]
     },
     "execution_count": 24,
     "metadata": {},
     "output_type": "execute_result"
    }
   ],
   "source": [
    "df.head()"
   ]
  },
  {
   "cell_type": "markdown",
   "id": "5af1cc56",
   "metadata": {},
   "source": [
    "#### Data splitting for model training"
   ]
  },
  {
   "cell_type": "markdown",
   "id": "cb8218f6",
   "metadata": {},
   "source": [
    "#### Model1 LogisticRegression\n",
    "df.columns"
   ]
  },
  {
   "cell_type": "code",
   "execution_count": 26,
   "id": "d2feafa6",
   "metadata": {},
   "outputs": [],
   "source": [
    "# splitting target and input variables\n",
    "y=df['Attrition']\n",
    "x=df.drop('Attrition',axis=1)\n"
   ]
  },
  {
   "cell_type": "code",
   "execution_count": 27,
   "id": "8a51cd43",
   "metadata": {},
   "outputs": [
    {
     "data": {
      "text/html": [
       "<div>\n",
       "<style scoped>\n",
       "    .dataframe tbody tr th:only-of-type {\n",
       "        vertical-align: middle;\n",
       "    }\n",
       "\n",
       "    .dataframe tbody tr th {\n",
       "        vertical-align: top;\n",
       "    }\n",
       "\n",
       "    .dataframe thead th {\n",
       "        text-align: right;\n",
       "    }\n",
       "</style>\n",
       "<table border=\"1\" class=\"dataframe\">\n",
       "  <thead>\n",
       "    <tr style=\"text-align: right;\">\n",
       "      <th></th>\n",
       "      <th>Age</th>\n",
       "      <th>BusinessTravel</th>\n",
       "      <th>DailyRate</th>\n",
       "      <th>Department</th>\n",
       "      <th>DistanceFromHome</th>\n",
       "      <th>Education</th>\n",
       "      <th>EducationField</th>\n",
       "      <th>EmployeeNumber</th>\n",
       "      <th>EnvironmentSatisfaction</th>\n",
       "      <th>Gender</th>\n",
       "      <th>...</th>\n",
       "      <th>PerformanceRating</th>\n",
       "      <th>RelationshipSatisfaction</th>\n",
       "      <th>StockOptionLevel</th>\n",
       "      <th>TotalWorkingYears</th>\n",
       "      <th>TrainingTimesLastYear</th>\n",
       "      <th>WorkLifeBalance</th>\n",
       "      <th>YearsAtCompany</th>\n",
       "      <th>YearsInCurrentRole</th>\n",
       "      <th>YearsSinceLastPromotion</th>\n",
       "      <th>YearsWithCurrManager</th>\n",
       "    </tr>\n",
       "  </thead>\n",
       "  <tbody>\n",
       "    <tr>\n",
       "      <th>0</th>\n",
       "      <td>41</td>\n",
       "      <td>2</td>\n",
       "      <td>1102</td>\n",
       "      <td>2</td>\n",
       "      <td>1</td>\n",
       "      <td>2</td>\n",
       "      <td>1</td>\n",
       "      <td>1</td>\n",
       "      <td>2</td>\n",
       "      <td>0</td>\n",
       "      <td>...</td>\n",
       "      <td>3</td>\n",
       "      <td>1</td>\n",
       "      <td>0</td>\n",
       "      <td>8</td>\n",
       "      <td>0</td>\n",
       "      <td>1</td>\n",
       "      <td>6</td>\n",
       "      <td>4</td>\n",
       "      <td>0</td>\n",
       "      <td>5</td>\n",
       "    </tr>\n",
       "    <tr>\n",
       "      <th>1</th>\n",
       "      <td>49</td>\n",
       "      <td>1</td>\n",
       "      <td>279</td>\n",
       "      <td>1</td>\n",
       "      <td>8</td>\n",
       "      <td>1</td>\n",
       "      <td>1</td>\n",
       "      <td>2</td>\n",
       "      <td>3</td>\n",
       "      <td>1</td>\n",
       "      <td>...</td>\n",
       "      <td>4</td>\n",
       "      <td>4</td>\n",
       "      <td>1</td>\n",
       "      <td>10</td>\n",
       "      <td>3</td>\n",
       "      <td>3</td>\n",
       "      <td>10</td>\n",
       "      <td>7</td>\n",
       "      <td>1</td>\n",
       "      <td>7</td>\n",
       "    </tr>\n",
       "    <tr>\n",
       "      <th>2</th>\n",
       "      <td>37</td>\n",
       "      <td>2</td>\n",
       "      <td>1373</td>\n",
       "      <td>1</td>\n",
       "      <td>2</td>\n",
       "      <td>2</td>\n",
       "      <td>4</td>\n",
       "      <td>4</td>\n",
       "      <td>4</td>\n",
       "      <td>1</td>\n",
       "      <td>...</td>\n",
       "      <td>3</td>\n",
       "      <td>2</td>\n",
       "      <td>0</td>\n",
       "      <td>7</td>\n",
       "      <td>3</td>\n",
       "      <td>3</td>\n",
       "      <td>0</td>\n",
       "      <td>0</td>\n",
       "      <td>0</td>\n",
       "      <td>0</td>\n",
       "    </tr>\n",
       "    <tr>\n",
       "      <th>3</th>\n",
       "      <td>33</td>\n",
       "      <td>1</td>\n",
       "      <td>1392</td>\n",
       "      <td>1</td>\n",
       "      <td>3</td>\n",
       "      <td>4</td>\n",
       "      <td>1</td>\n",
       "      <td>5</td>\n",
       "      <td>4</td>\n",
       "      <td>0</td>\n",
       "      <td>...</td>\n",
       "      <td>3</td>\n",
       "      <td>3</td>\n",
       "      <td>0</td>\n",
       "      <td>8</td>\n",
       "      <td>3</td>\n",
       "      <td>3</td>\n",
       "      <td>8</td>\n",
       "      <td>7</td>\n",
       "      <td>3</td>\n",
       "      <td>0</td>\n",
       "    </tr>\n",
       "    <tr>\n",
       "      <th>4</th>\n",
       "      <td>27</td>\n",
       "      <td>2</td>\n",
       "      <td>591</td>\n",
       "      <td>1</td>\n",
       "      <td>2</td>\n",
       "      <td>1</td>\n",
       "      <td>3</td>\n",
       "      <td>7</td>\n",
       "      <td>1</td>\n",
       "      <td>1</td>\n",
       "      <td>...</td>\n",
       "      <td>3</td>\n",
       "      <td>4</td>\n",
       "      <td>1</td>\n",
       "      <td>6</td>\n",
       "      <td>3</td>\n",
       "      <td>3</td>\n",
       "      <td>2</td>\n",
       "      <td>2</td>\n",
       "      <td>2</td>\n",
       "      <td>2</td>\n",
       "    </tr>\n",
       "  </tbody>\n",
       "</table>\n",
       "<p>5 rows × 30 columns</p>\n",
       "</div>"
      ],
      "text/plain": [
       "   Age  BusinessTravel  DailyRate  Department  DistanceFromHome  Education  \\\n",
       "0   41               2       1102           2                 1          2   \n",
       "1   49               1        279           1                 8          1   \n",
       "2   37               2       1373           1                 2          2   \n",
       "3   33               1       1392           1                 3          4   \n",
       "4   27               2        591           1                 2          1   \n",
       "\n",
       "   EducationField  EmployeeNumber  EnvironmentSatisfaction  Gender  ...  \\\n",
       "0               1               1                        2       0  ...   \n",
       "1               1               2                        3       1  ...   \n",
       "2               4               4                        4       1  ...   \n",
       "3               1               5                        4       0  ...   \n",
       "4               3               7                        1       1  ...   \n",
       "\n",
       "   PerformanceRating  RelationshipSatisfaction  StockOptionLevel  \\\n",
       "0                  3                         1                 0   \n",
       "1                  4                         4                 1   \n",
       "2                  3                         2                 0   \n",
       "3                  3                         3                 0   \n",
       "4                  3                         4                 1   \n",
       "\n",
       "   TotalWorkingYears  TrainingTimesLastYear  WorkLifeBalance  YearsAtCompany  \\\n",
       "0                  8                      0                1               6   \n",
       "1                 10                      3                3              10   \n",
       "2                  7                      3                3               0   \n",
       "3                  8                      3                3               8   \n",
       "4                  6                      3                3               2   \n",
       "\n",
       "   YearsInCurrentRole  YearsSinceLastPromotion  YearsWithCurrManager  \n",
       "0                   4                        0                     5  \n",
       "1                   7                        1                     7  \n",
       "2                   0                        0                     0  \n",
       "3                   7                        3                     0  \n",
       "4                   2                        2                     2  \n",
       "\n",
       "[5 rows x 30 columns]"
      ]
     },
     "execution_count": 27,
     "metadata": {},
     "output_type": "execute_result"
    }
   ],
   "source": [
    "x.head()"
   ]
  },
  {
   "cell_type": "code",
   "execution_count": 28,
   "id": "5f94331d",
   "metadata": {},
   "outputs": [
    {
     "data": {
      "text/plain": [
       "0    1\n",
       "1    0\n",
       "2    1\n",
       "3    0\n",
       "4    0\n",
       "Name: Attrition, dtype: int32"
      ]
     },
     "execution_count": 28,
     "metadata": {},
     "output_type": "execute_result"
    }
   ],
   "source": [
    "y.head()"
   ]
  },
  {
   "cell_type": "code",
   "execution_count": 29,
   "id": "6a94577d",
   "metadata": {},
   "outputs": [],
   "source": [
    "from sklearn.model_selection import train_test_split\n",
    "from sklearn.linear_model import LogisticRegression\n",
    "from sklearn.metrics import accuracy_score ,classification_report ,confusion_matrix\n",
    "lr=LogisticRegression()\n"
   ]
  },
  {
   "cell_type": "markdown",
   "id": "74321ee9",
   "metadata": {},
   "source": [
    "#### will try to find out best value Random State"
   ]
  },
  {
   "cell_type": "code",
   "execution_count": 30,
   "id": "a7ce8620",
   "metadata": {},
   "outputs": [],
   "source": [
    "max_accu = 0\n",
    "max_randst = 0\n",
    "for i in range (0,1000):\n",
    "    x_train,x_test,y_train,y_test = train_test_split(x,y,test_size=0.2, random_state=i)\n",
    "    lr.fit(x_train,y_train)\n",
    "    \n",
    "    pred_lr=lr.predict(x_test)\n",
    "    accu_score= accuracy_score(y_test,pred_lr)\n",
    "    if max_accu<accu_score:\n",
    "        max_accu= accu_score\n",
    "        max_randst= i\n",
    "\n",
    "      "
   ]
  },
  {
   "cell_type": "code",
   "execution_count": 31,
   "id": "f5578802",
   "metadata": {},
   "outputs": [
    {
     "name": "stdout",
     "output_type": "stream",
     "text": [
      "max accuracy score is : 89.9 at random state : 431\n"
     ]
    }
   ],
   "source": [
    "print(\"max accuracy score is :\", round(max_accu*100 ,1),\"at random state :\",max_randst)"
   ]
  },
  {
   "cell_type": "code",
   "execution_count": 199,
   "id": "9c405697",
   "metadata": {},
   "outputs": [],
   "source": [
    "x_train,x_test,y_train,y_test = train_test_split(x,y,test_size=0.2, random_state=431)\n",
    "lr.fit(x_train,y_train)\n",
    "    \n",
    "pred_lr=lr.predict(x_test)\n",
    "accu_score= accuracy_score(y_test,pred_lr)"
   ]
  },
  {
   "cell_type": "code",
   "execution_count": 200,
   "id": "246672ba",
   "metadata": {},
   "outputs": [
    {
     "data": {
      "text/plain": [
       "89.9"
      ]
     },
     "execution_count": 200,
     "metadata": {},
     "output_type": "execute_result"
    }
   ],
   "source": [
    "round(accu_score*100 ,1)"
   ]
  },
  {
   "cell_type": "code",
   "execution_count": 201,
   "id": "90583a20",
   "metadata": {},
   "outputs": [],
   "source": [
    "Model_report=pd.DataFrame(columns=['Model_name','Balance','Accuracy_Score','Confusion_matrix'])"
   ]
  },
  {
   "cell_type": "code",
   "execution_count": 202,
   "id": "9dba61a1",
   "metadata": {},
   "outputs": [],
   "source": [
    "def model_report_append(name,bal,accu,confu_mat):\n",
    "    Model_report=Model_report.append({\n",
    "                                   'Model_name':name,'Balance':bal,\n",
    "                                   'Accuracy_Score':accu,\n",
    "                                   'Confusion_matrix':confu_mat},ignore_index=True)\n",
    "    "
   ]
  },
  {
   "cell_type": "code",
   "execution_count": 203,
   "id": "71a97804",
   "metadata": {
    "scrolled": false
   },
   "outputs": [
    {
     "name": "stdout",
     "output_type": "stream",
     "text": [
      "Accuracy score is : 89.9 \n",
      "\n",
      "Confusion_matrix is :\n",
      "\n",
      "[[249   0]\n",
      " [ 28   1]] \n",
      "\n",
      "Classification report :\n",
      "\n",
      "              precision    recall  f1-score   support\n",
      "\n",
      "           0       0.90      1.00      0.95       249\n",
      "           1       1.00      0.03      0.07        29\n",
      "\n",
      "    accuracy                           0.90       278\n",
      "   macro avg       0.95      0.52      0.51       278\n",
      "weighted avg       0.91      0.90      0.85       278\n",
      "\n"
     ]
    }
   ],
   "source": [
    "from sklearn.metrics import accuracy_score ,classification_report,confusion_matrix\n",
    "\n",
    "print(\"Accuracy score is :\",round(accu_score*100 ,1) ,'\\n')\n",
    "print(\"Confusion_matrix is :\\n\")\n",
    "print(confusion_matrix(y_test,pred_lr),'\\n')\n",
    "print(\"Classification report :\\n\")\n",
    "print(classification_report(y_test,pred_lr))\n",
    "\n",
    "Model_report=Model_report.append({\n",
    "                                   'Model_name':' LogisticRegression','Balance':'Imbalanced',\n",
    "                                   'Accuracy_Score':round(accu_score*100 ,1),\n",
    "                                   'Confusion_matrix':confusion_matrix(y_test,pred_lr)},ignore_index=True)"
   ]
  },
  {
   "cell_type": "code",
   "execution_count": 204,
   "id": "9b7009c1",
   "metadata": {},
   "outputs": [
    {
     "data": {
      "text/html": [
       "<div>\n",
       "<style scoped>\n",
       "    .dataframe tbody tr th:only-of-type {\n",
       "        vertical-align: middle;\n",
       "    }\n",
       "\n",
       "    .dataframe tbody tr th {\n",
       "        vertical-align: top;\n",
       "    }\n",
       "\n",
       "    .dataframe thead th {\n",
       "        text-align: right;\n",
       "    }\n",
       "</style>\n",
       "<table border=\"1\" class=\"dataframe\">\n",
       "  <thead>\n",
       "    <tr style=\"text-align: right;\">\n",
       "      <th></th>\n",
       "      <th>Model_name</th>\n",
       "      <th>Balance</th>\n",
       "      <th>Accuracy_Score</th>\n",
       "      <th>Confusion_matrix</th>\n",
       "    </tr>\n",
       "  </thead>\n",
       "  <tbody>\n",
       "    <tr>\n",
       "      <th>0</th>\n",
       "      <td>LogisticRegression</td>\n",
       "      <td>Imbalanced</td>\n",
       "      <td>89.9</td>\n",
       "      <td>[[249, 0], [28, 1]]</td>\n",
       "    </tr>\n",
       "  </tbody>\n",
       "</table>\n",
       "</div>"
      ],
      "text/plain": [
       "            Model_name     Balance  Accuracy_Score     Confusion_matrix\n",
       "0   LogisticRegression  Imbalanced            89.9  [[249, 0], [28, 1]]"
      ]
     },
     "execution_count": 204,
     "metadata": {},
     "output_type": "execute_result"
    }
   ],
   "source": [
    "Model_report"
   ]
  },
  {
   "cell_type": "code",
   "execution_count": 205,
   "id": "ff558cb7",
   "metadata": {
    "scrolled": true
   },
   "outputs": [
    {
     "data": {
      "text/plain": [
       "0    1158\n",
       "1     229\n",
       "Name: Attrition, dtype: int64"
      ]
     },
     "execution_count": 205,
     "metadata": {},
     "output_type": "execute_result"
    }
   ],
   "source": [
    "df['Attrition'].value_counts()"
   ]
  },
  {
   "cell_type": "markdown",
   "id": "095678b1",
   "metadata": {},
   "source": [
    "#### we can see given dataset is imbalance dataset , we will use RandomOverSampler to handle it."
   ]
  },
  {
   "cell_type": "markdown",
   "id": "1e9ee63b",
   "metadata": {},
   "source": [
    "### Using Over Sampling "
   ]
  },
  {
   "cell_type": "code",
   "execution_count": 206,
   "id": "c60247bb",
   "metadata": {},
   "outputs": [],
   "source": [
    "from imblearn.over_sampling import RandomOverSampler"
   ]
  },
  {
   "cell_type": "code",
   "execution_count": 207,
   "id": "1de5cf89",
   "metadata": {
    "scrolled": true
   },
   "outputs": [
    {
     "name": "stdout",
     "output_type": "stream",
     "text": [
      "The number of classes before fit 0    909\n",
      "1    200\n",
      "Name: Attrition, dtype: int64\n",
      " \n",
      "The number of c lasses after fit 0    909\n",
      "1    909\n",
      "Name: Attrition, dtype: int64\n"
     ]
    }
   ],
   "source": [
    "# making both 1's and 0's equal in no.RandomOverSampler(1)by 1\n",
    "os=RandomOverSampler(1)\n",
    "\n",
    "x_train_ns,y_train_ns=os.fit_sample(x_train,y_train)\n",
    "print(f\"The number of classes before fit {y_train.value_counts()}\")\n",
    "print(\" \")\n",
    "print(f\"The number of c lasses after fit {y_train_ns.value_counts()}\")"
   ]
  },
  {
   "cell_type": "markdown",
   "id": "9a26c0bf",
   "metadata": {},
   "source": [
    "#### we can obeserve now value count of 1's is increased from 200 to 909 (909*1) afteroversampling .now the dataset has become quite balanced."
   ]
  },
  {
   "cell_type": "code",
   "execution_count": 208,
   "id": "8e5a4d77",
   "metadata": {},
   "outputs": [
    {
     "data": {
      "text/plain": [
       "RandomForestClassifier()"
      ]
     },
     "execution_count": 208,
     "metadata": {},
     "output_type": "execute_result"
    }
   ],
   "source": [
    "from sklearn.ensemble import RandomForestClassifier\n",
    "classifier=RandomForestClassifier()\n",
    "classifier.fit(x_train_ns,y_train_ns)"
   ]
  },
  {
   "cell_type": "code",
   "execution_count": 209,
   "id": "fc9209e9",
   "metadata": {},
   "outputs": [
    {
     "name": "stdout",
     "output_type": "stream",
     "text": [
      "[[243   6]\n",
      " [ 20   9]]\n",
      "0.9064748201438849\n",
      "              precision    recall  f1-score   support\n",
      "\n",
      "           0       0.92      0.98      0.95       249\n",
      "           1       0.60      0.31      0.41        29\n",
      "\n",
      "    accuracy                           0.91       278\n",
      "   macro avg       0.76      0.64      0.68       278\n",
      "weighted avg       0.89      0.91      0.89       278\n",
      "\n"
     ]
    }
   ],
   "source": [
    "# \n",
    "y_pred=classifier.predict(x_test)\n",
    "print(confusion_matrix(y_test,y_pred))\n",
    "print(accuracy_score(y_test,y_pred))\n",
    "print(classification_report(y_test,y_pred))\n",
    "Model_report=Model_report.append({\n",
    "                                   'Model_name':' RandomForestClassifier','Balance':'Balanced using Over Sampling',\n",
    "                                   'Accuracy_Score':round(accuracy_score(y_test,y_pred)*100 ,1),\n",
    "                                   'Confusion_matrix':confusion_matrix(y_test,pred_lr)},ignore_index=True)"
   ]
  },
  {
   "cell_type": "code",
   "execution_count": 210,
   "id": "70b001da",
   "metadata": {
    "scrolled": true
   },
   "outputs": [
    {
     "data": {
      "text/html": [
       "<div>\n",
       "<style scoped>\n",
       "    .dataframe tbody tr th:only-of-type {\n",
       "        vertical-align: middle;\n",
       "    }\n",
       "\n",
       "    .dataframe tbody tr th {\n",
       "        vertical-align: top;\n",
       "    }\n",
       "\n",
       "    .dataframe thead th {\n",
       "        text-align: right;\n",
       "    }\n",
       "</style>\n",
       "<table border=\"1\" class=\"dataframe\">\n",
       "  <thead>\n",
       "    <tr style=\"text-align: right;\">\n",
       "      <th></th>\n",
       "      <th>Model_name</th>\n",
       "      <th>Balance</th>\n",
       "      <th>Accuracy_Score</th>\n",
       "      <th>Confusion_matrix</th>\n",
       "    </tr>\n",
       "  </thead>\n",
       "  <tbody>\n",
       "    <tr>\n",
       "      <th>0</th>\n",
       "      <td>LogisticRegression</td>\n",
       "      <td>Imbalanced</td>\n",
       "      <td>89.9</td>\n",
       "      <td>[[249, 0], [28, 1]]</td>\n",
       "    </tr>\n",
       "    <tr>\n",
       "      <th>1</th>\n",
       "      <td>RandomForestClassifier</td>\n",
       "      <td>Balanced using Over Sampling</td>\n",
       "      <td>90.6</td>\n",
       "      <td>[[249, 0], [28, 1]]</td>\n",
       "    </tr>\n",
       "  </tbody>\n",
       "</table>\n",
       "</div>"
      ],
      "text/plain": [
       "                Model_name                       Balance  Accuracy_Score  \\\n",
       "0       LogisticRegression                    Imbalanced            89.9   \n",
       "1   RandomForestClassifier  Balanced using Over Sampling            90.6   \n",
       "\n",
       "      Confusion_matrix  \n",
       "0  [[249, 0], [28, 1]]  \n",
       "1  [[249, 0], [28, 1]]  "
      ]
     },
     "execution_count": 210,
     "metadata": {},
     "output_type": "execute_result"
    }
   ],
   "source": [
    "Model_report"
   ]
  },
  {
   "cell_type": "markdown",
   "id": "6bc0cd13",
   "metadata": {},
   "source": [
    "### using SMOTE"
   ]
  },
  {
   "cell_type": "code",
   "execution_count": 211,
   "id": "3d62740d",
   "metadata": {},
   "outputs": [],
   "source": [
    "from imblearn.combine import SMOTETomek\n",
    "from collections import Counter"
   ]
  },
  {
   "cell_type": "code",
   "execution_count": 212,
   "id": "2a408c78",
   "metadata": {},
   "outputs": [
    {
     "name": "stdout",
     "output_type": "stream",
     "text": [
      "The number of classes before fit Counter({0: 909, 1: 200})\n",
      "The number of classes after fit Counter({1: 909, 0: 909})\n"
     ]
    }
   ],
   "source": [
    "os=SMOTETomek(1)\n",
    "x_train_sm,y_train_sm=os.fit_sample(x_train,y_train)\n",
    "print(\"The number of classes before fit {}\".format(Counter(y_train)))\n",
    "print(\"The number of classes after fit {}\".format(Counter(y_train_ns)))"
   ]
  },
  {
   "cell_type": "code",
   "execution_count": 213,
   "id": "94bdc4ba",
   "metadata": {},
   "outputs": [
    {
     "data": {
      "text/plain": [
       "RandomForestClassifier()"
      ]
     },
     "execution_count": 213,
     "metadata": {},
     "output_type": "execute_result"
    }
   ],
   "source": [
    "from sklearn.ensemble import RandomForestClassifier\n",
    "\n",
    "classifier_smot=RandomForestClassifier()\n",
    "classifier_smot.fit(x_train_sm,y_train_sm)"
   ]
  },
  {
   "cell_type": "code",
   "execution_count": 214,
   "id": "8b43a742",
   "metadata": {},
   "outputs": [
    {
     "name": "stdout",
     "output_type": "stream",
     "text": [
      "[[230  19]\n",
      " [ 18  11]]\n",
      "0.8669064748201439\n",
      "              precision    recall  f1-score   support\n",
      "\n",
      "           0       0.93      0.92      0.93       249\n",
      "           1       0.37      0.38      0.37        29\n",
      "\n",
      "    accuracy                           0.87       278\n",
      "   macro avg       0.65      0.65      0.65       278\n",
      "weighted avg       0.87      0.87      0.87       278\n",
      "\n"
     ]
    }
   ],
   "source": [
    "y_pred=classifier_smot.predict(x_test)\n",
    "print(confusion_matrix(y_test,y_pred))\n",
    "print(accuracy_score(y_test,y_pred))\n",
    "print(classification_report(y_test,y_pred))\n",
    "\n",
    "Model_report=Model_report.append({\n",
    "                                   'Model_name':' RandomForestClassifier','Balance':'Balanced using SMOT',\n",
    "                                   'Accuracy_Score':round(accuracy_score(y_test,y_pred)*100 ,1),\n",
    "                                   'Confusion_matrix':confusion_matrix(y_test,y_pred)},ignore_index=True)"
   ]
  },
  {
   "cell_type": "markdown",
   "id": "0cdf422a",
   "metadata": {},
   "source": [
    "### SVC Model-2"
   ]
  },
  {
   "cell_type": "code",
   "execution_count": 215,
   "id": "64668241",
   "metadata": {},
   "outputs": [
    {
     "data": {
      "text/plain": [
       "SVC()"
      ]
     },
     "execution_count": 215,
     "metadata": {},
     "output_type": "execute_result"
    }
   ],
   "source": [
    "from sklearn.svm import SVC\n",
    "class_weight=dict({0:1,1:500})\n",
    "sv = SVC()\n",
    "sv.fit(x_train_ns,y_train_ns)"
   ]
  },
  {
   "cell_type": "code",
   "execution_count": 216,
   "id": "bd0c8368",
   "metadata": {
    "scrolled": true
   },
   "outputs": [
    {
     "name": "stdout",
     "output_type": "stream",
     "text": [
      "[[ 96 153]\n",
      " [  9  20]]\n",
      "0.4172661870503597\n",
      "              precision    recall  f1-score   support\n",
      "\n",
      "           0       0.91      0.39      0.54       249\n",
      "           1       0.12      0.69      0.20        29\n",
      "\n",
      "    accuracy                           0.42       278\n",
      "   macro avg       0.51      0.54      0.37       278\n",
      "weighted avg       0.83      0.42      0.51       278\n",
      "\n"
     ]
    }
   ],
   "source": [
    "y_pred=sv.predict(x_test)\n",
    "print(confusion_matrix(y_test,y_pred))\n",
    "print(accuracy_score(y_test,y_pred))\n",
    "print(classification_report(y_test,y_pred))\n",
    "Model_report=Model_report.append({\n",
    "                                   'Model_name':' SVC','Balance':'Balanced using Over Sampling',\n",
    "                                   'Accuracy_Score':round(accuracy_score(y_test,y_pred)*100 ,1),\n",
    "                                   'Confusion_matrix':confusion_matrix(y_test,y_pred)},ignore_index=True)"
   ]
  },
  {
   "cell_type": "markdown",
   "id": "48a7f7c0",
   "metadata": {},
   "source": [
    "### Decision Tree Model-4"
   ]
  },
  {
   "cell_type": "code",
   "execution_count": 217,
   "id": "0cba4ed1",
   "metadata": {},
   "outputs": [],
   "source": [
    "def model_implement(model_ref ,x_train,x_test,y_train,y_test):\n",
    "    model_ref.fit(x_train,y_train)\n",
    "    predrf=sv.predict(x_test)\n",
    "    print(\"Accuracy score is :\",round(accuracy_score(y_test,predrf)*100 ,2),'\\n')\n",
    "    print(confusion_matrix(y_test,predrf),'\\n')\n",
    "    print(\"Classification Report score is :\\n\")\n",
    "    print(classification_report(y_test,predrf))"
   ]
  },
  {
   "cell_type": "code",
   "execution_count": 218,
   "id": "57114283",
   "metadata": {},
   "outputs": [
    {
     "name": "stdout",
     "output_type": "stream",
     "text": [
      "[[216  33]\n",
      " [ 21   8]]\n",
      "0.8057553956834532\n",
      "              precision    recall  f1-score   support\n",
      "\n",
      "           0       0.91      0.87      0.89       249\n",
      "           1       0.20      0.28      0.23        29\n",
      "\n",
      "    accuracy                           0.81       278\n",
      "   macro avg       0.55      0.57      0.56       278\n",
      "weighted avg       0.84      0.81      0.82       278\n",
      "\n"
     ]
    }
   ],
   "source": [
    "dc.fit(x_train_ns,y_train_ns)\n",
    "y_pred=dc.predict(x_test)\n",
    "print(confusion_matrix(y_test,y_pred))\n",
    "print(accuracy_score(y_test,y_pred))\n",
    "print(classification_report(y_test,y_pred))\n",
    "Model_report=Model_report.append({\n",
    "                                   'Model_name':' SVC','Balance':'Balanced using Over Sampling',\n",
    "                                   'Accuracy_Score':round(accuracy_score(y_test,y_pred)*100 ,1),\n",
    "                                   'Confusion_matrix':confusion_matrix(y_test,y_pred)},ignore_index=True)"
   ]
  },
  {
   "cell_type": "code",
   "execution_count": 219,
   "id": "3f145811",
   "metadata": {},
   "outputs": [
    {
     "name": "stdout",
     "output_type": "stream",
     "text": [
      "[[214  35]\n",
      " [ 23   6]]\n",
      "0.7913669064748201\n",
      "              precision    recall  f1-score   support\n",
      "\n",
      "           0       0.90      0.86      0.88       249\n",
      "           1       0.15      0.21      0.17        29\n",
      "\n",
      "    accuracy                           0.79       278\n",
      "   macro avg       0.52      0.53      0.53       278\n",
      "weighted avg       0.82      0.79      0.81       278\n",
      "\n"
     ]
    }
   ],
   "source": [
    "from sklearn.tree import DecisionTreeClassifier\n",
    "dc= DecisionTreeClassifier()\n",
    "dc.fit(x_train_ns,y_train_ns)\n",
    "y_pred=dc.predict(x_test)\n",
    "print(confusion_matrix(y_test,y_pred))\n",
    "print(accuracy_score(y_test,y_pred))\n",
    "print(classification_report(y_test,y_pred))\n",
    "Model_report=Model_report.append({\n",
    "                                   'Model_name':'DecisionTreeClassifier','Balance':'Balanced using Over Sampling',\n",
    "                                   'Accuracy_Score':round(accuracy_score(y_test,y_pred)*100 ,1),\n",
    "                                   'Confusion_matrix':confusion_matrix(y_test,y_pred)},ignore_index=True)"
   ]
  },
  {
   "cell_type": "code",
   "execution_count": 225,
   "id": "11b313c4",
   "metadata": {},
   "outputs": [
    {
     "data": {
      "text/html": [
       "<div>\n",
       "<style scoped>\n",
       "    .dataframe tbody tr th:only-of-type {\n",
       "        vertical-align: middle;\n",
       "    }\n",
       "\n",
       "    .dataframe tbody tr th {\n",
       "        vertical-align: top;\n",
       "    }\n",
       "\n",
       "    .dataframe thead th {\n",
       "        text-align: right;\n",
       "    }\n",
       "</style>\n",
       "<table border=\"1\" class=\"dataframe\">\n",
       "  <thead>\n",
       "    <tr style=\"text-align: right;\">\n",
       "      <th></th>\n",
       "      <th>Model_name</th>\n",
       "      <th>Balance</th>\n",
       "      <th>Accuracy_Score</th>\n",
       "      <th>Confusion_matrix</th>\n",
       "    </tr>\n",
       "  </thead>\n",
       "  <tbody>\n",
       "    <tr>\n",
       "      <th>0</th>\n",
       "      <td>LogisticRegression</td>\n",
       "      <td>Imbalanced</td>\n",
       "      <td>89.9</td>\n",
       "      <td>[[249, 0], [28, 1]]</td>\n",
       "    </tr>\n",
       "    <tr>\n",
       "      <th>1</th>\n",
       "      <td>RandomForestClassifier</td>\n",
       "      <td>Balanced using Over Sampling</td>\n",
       "      <td>90.6</td>\n",
       "      <td>[[249, 0], [28, 1]]</td>\n",
       "    </tr>\n",
       "    <tr>\n",
       "      <th>2</th>\n",
       "      <td>RandomForestClassifier</td>\n",
       "      <td>Balanced using SMOT</td>\n",
       "      <td>86.7</td>\n",
       "      <td>[[230, 19], [18, 11]]</td>\n",
       "    </tr>\n",
       "    <tr>\n",
       "      <th>3</th>\n",
       "      <td>SVC</td>\n",
       "      <td>Balanced using Over Sampling</td>\n",
       "      <td>41.7</td>\n",
       "      <td>[[96, 153], [9, 20]]</td>\n",
       "    </tr>\n",
       "    <tr>\n",
       "      <th>5</th>\n",
       "      <td>DecisionTreeClassifier</td>\n",
       "      <td>Balanced using Over Sampling</td>\n",
       "      <td>79.1</td>\n",
       "      <td>[[214, 35], [23, 6]]</td>\n",
       "    </tr>\n",
       "  </tbody>\n",
       "</table>\n",
       "</div>"
      ],
      "text/plain": [
       "                Model_name                       Balance  Accuracy_Score  \\\n",
       "0       LogisticRegression                    Imbalanced            89.9   \n",
       "1   RandomForestClassifier  Balanced using Over Sampling            90.6   \n",
       "2   RandomForestClassifier           Balanced using SMOT            86.7   \n",
       "3                      SVC  Balanced using Over Sampling            41.7   \n",
       "5   DecisionTreeClassifier  Balanced using Over Sampling            79.1   \n",
       "\n",
       "        Confusion_matrix  \n",
       "0    [[249, 0], [28, 1]]  \n",
       "1    [[249, 0], [28, 1]]  \n",
       "2  [[230, 19], [18, 11]]  \n",
       "3   [[96, 153], [9, 20]]  \n",
       "5   [[214, 35], [23, 6]]  "
      ]
     },
     "execution_count": 225,
     "metadata": {},
     "output_type": "execute_result"
    }
   ],
   "source": [
    "\n",
    "Model_report"
   ]
  },
  {
   "cell_type": "markdown",
   "id": "b86cf529",
   "metadata": {},
   "source": [
    "#### from above readings after studing accuracy score and confusion matrix ,and Classification report will go with 'RandomForestClassifier'  with smot "
   ]
  },
  {
   "cell_type": "markdown",
   "id": "cf875766",
   "metadata": {},
   "source": [
    "Model_report"
   ]
  },
  {
   "cell_type": "markdown",
   "id": "10cc670e",
   "metadata": {},
   "source": [
    "### hyperparameter Tunning  'RandomForestClassifier'"
   ]
  },
  {
   "cell_type": "code",
   "execution_count": 221,
   "id": "084ec285",
   "metadata": {},
   "outputs": [],
   "source": [
    "from sklearn.model_selection import GridSearchCV"
   ]
  },
  {
   "cell_type": "code",
   "execution_count": 228,
   "id": "4015d876",
   "metadata": {},
   "outputs": [
    {
     "data": {
      "text/plain": [
       "{'class_weight': 'balanced_subsample', 'criterion': 'gini', 'max_depth': 6}"
      ]
     },
     "execution_count": 228,
     "metadata": {},
     "output_type": "execute_result"
    }
   ],
   "source": [
    "\n",
    "max_depth =[2,4,6]\n",
    "class_weight_options = [\"balanced\", \"balanced_subsample\"]\n",
    "criterion=[\"gini\", \"entropy\"]\n",
    "\n",
    "param_grid = dict(max_depth=max_depth, class_weight = class_weight_options,criterion=criterion)\n",
    "\n",
    "grid = GridSearchCV(classifier_smot, param_grid, cv=12, scoring = \n",
    "'accuracy')\n",
    "grid.fit(x_train_sm,y_train_sm)\n",
    "grid.best_params_"
   ]
  },
  {
   "cell_type": "code",
   "execution_count": 229,
   "id": "47956f87",
   "metadata": {},
   "outputs": [
    {
     "data": {
      "text/plain": [
       "dict_keys(['bootstrap', 'ccp_alpha', 'class_weight', 'criterion', 'max_depth', 'max_features', 'max_leaf_nodes', 'max_samples', 'min_impurity_decrease', 'min_impurity_split', 'min_samples_leaf', 'min_samples_split', 'min_weight_fraction_leaf', 'n_estimators', 'n_jobs', 'oob_score', 'random_state', 'verbose', 'warm_start'])"
      ]
     },
     "execution_count": 229,
     "metadata": {},
     "output_type": "execute_result"
    }
   ],
   "source": [
    "classifier_smot.get_params().keys()"
   ]
  },
  {
   "cell_type": "code",
   "execution_count": 232,
   "id": "2b6dfc49",
   "metadata": {},
   "outputs": [
    {
     "name": "stdout",
     "output_type": "stream",
     "text": [
      "[[218  31]\n",
      " [ 13  16]]\n",
      "0.841726618705036\n",
      "              precision    recall  f1-score   support\n",
      "\n",
      "           0       0.94      0.88      0.91       249\n",
      "           1       0.34      0.55      0.42        29\n",
      "\n",
      "    accuracy                           0.84       278\n",
      "   macro avg       0.64      0.71      0.66       278\n",
      "weighted avg       0.88      0.84      0.86       278\n",
      "\n"
     ]
    }
   ],
   "source": [
    "### prediction with best parameter\n",
    "grid_pred=grid.best_estimator_.predict(x_test) \n",
    "# best score \n",
    "accuracy_score(y_test,grid_pred)\n",
    "print(confusion_matrix(y_test,grid_pred))\n",
    "print(accuracy_score(y_test,grid_pred))\n",
    "print(classification_report(y_test,grid_pred))"
   ]
  },
  {
   "cell_type": "markdown",
   "id": "3d6cc364",
   "metadata": {},
   "source": [
    "### ROC AUC plot"
   ]
  },
  {
   "cell_type": "code",
   "execution_count": 233,
   "id": "ffebc206",
   "metadata": {},
   "outputs": [
    {
     "data": {
      "text/plain": [
       "Text(0.5, 1.0, 'ROC AUC PLOT')"
      ]
     },
     "execution_count": 233,
     "metadata": {},
     "output_type": "execute_result"
    },
    {
     "data": {
      "image/png": "[encoded data removed]",
      "text/plain": [
       "<Figure size 432x288 with 1 Axes>"
      ]
     },
     "metadata": {
      "needs_background": "light"
     },
     "output_type": "display_data"
    }
   ],
   "source": [
    "from sklearn.metrics import plot_roc_curve\n",
    "plot_roc_curve(grid.best_estimator_,x_test , y_test)\n",
    "plt.title(\"ROC AUC PLOT\")"
   ]
  },
  {
   "cell_type": "markdown",
   "id": "72cf7fc9",
   "metadata": {},
   "source": [
    "### AUC is 0.76 and Accuracy is 0.84 which is good ."
   ]
  },
  {
   "cell_type": "code",
   "execution_count": 235,
   "id": "fe157975",
   "metadata": {},
   "outputs": [
    {
     "data": {
      "text/plain": [
       "['HR_analytics.pkl']"
      ]
     },
     "execution_count": 235,
     "metadata": {},
     "output_type": "execute_result"
    }
   ],
   "source": [
    "import joblib\n",
    "joblib.dump(grid.best_estimator_,\"HR_analytics.pkl\")"
   ]
  },
  {
   "cell_type": "code",
   "execution_count": null,
   "id": "a74fa369",
   "metadata": {},
   "outputs": [],
   "source": []
  }
 ],
 "metadata": {
  "kernelspec": {
   "display_name": "Python 3",
   "language": "python",
   "name": "python3"
  },
  "language_info": {
   "codemirror_mode": {
    "name": "ipython",
    "version": 3
   },
   "file_extension": ".py",
   "mimetype": "text/x-python",
   "name": "python",
   "nbconvert_exporter": "python",
   "pygments_lexer": "ipython3",
   "version": "3.8.8"
  }
 },
 "nbformat": 4,
 "nbformat_minor": 5
}
